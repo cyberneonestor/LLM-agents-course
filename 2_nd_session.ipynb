{
  "nbformat": 4,
  "nbformat_minor": 0,
  "metadata": {
    "colab": {
      "provenance": []
    },
    "kernelspec": {
      "name": "python3",
      "display_name": "Python 3"
    },
    "language_info": {
      "name": "python"
    }
  },
  "cells": [
    {
      "cell_type": "code",
      "source": [
        "!pip install langchain_community langchain-openai duckduckgo-search ddgs"
      ],
      "metadata": {
        "colab": {
          "base_uri": "https://localhost:8080/"
        },
        "collapsed": true,
        "id": "9OdojghKOtiY",
        "outputId": "340b4d3d-b63e-4d59-ba83-8ead0608b4c4"
      },
      "execution_count": 19,
      "outputs": [
        {
          "output_type": "stream",
          "name": "stdout",
          "text": [
            "Requirement already satisfied: langchain_community in /usr/local/lib/python3.11/dist-packages (0.3.27)\n",
            "Requirement already satisfied: langchain-openai in /usr/local/lib/python3.11/dist-packages (0.3.27)\n",
            "Requirement already satisfied: duckduckgo-search in /usr/local/lib/python3.11/dist-packages (8.1.1)\n",
            "Collecting ddgs\n",
            "  Downloading ddgs-9.0.0-py3-none-any.whl.metadata (15 kB)\n",
            "Requirement already satisfied: langchain-core<1.0.0,>=0.3.66 in /usr/local/lib/python3.11/dist-packages (from langchain_community) (0.3.67)\n",
            "Requirement already satisfied: langchain<1.0.0,>=0.3.26 in /usr/local/lib/python3.11/dist-packages (from langchain_community) (0.3.26)\n",
            "Requirement already satisfied: SQLAlchemy<3,>=1.4 in /usr/local/lib/python3.11/dist-packages (from langchain_community) (2.0.41)\n",
            "Requirement already satisfied: requests<3,>=2 in /usr/local/lib/python3.11/dist-packages (from langchain_community) (2.32.3)\n",
            "Requirement already satisfied: PyYAML>=5.3 in /usr/local/lib/python3.11/dist-packages (from langchain_community) (6.0.2)\n",
            "Requirement already satisfied: aiohttp<4.0.0,>=3.8.3 in /usr/local/lib/python3.11/dist-packages (from langchain_community) (3.11.15)\n",
            "Requirement already satisfied: tenacity!=8.4.0,<10,>=8.1.0 in /usr/local/lib/python3.11/dist-packages (from langchain_community) (8.5.0)\n",
            "Requirement already satisfied: dataclasses-json<0.7,>=0.5.7 in /usr/local/lib/python3.11/dist-packages (from langchain_community) (0.6.7)\n",
            "Requirement already satisfied: pydantic-settings<3.0.0,>=2.4.0 in /usr/local/lib/python3.11/dist-packages (from langchain_community) (2.10.1)\n",
            "Requirement already satisfied: langsmith>=0.1.125 in /usr/local/lib/python3.11/dist-packages (from langchain_community) (0.4.4)\n",
            "Requirement already satisfied: httpx-sse<1.0.0,>=0.4.0 in /usr/local/lib/python3.11/dist-packages (from langchain_community) (0.4.1)\n",
            "Requirement already satisfied: numpy>=1.26.2 in /usr/local/lib/python3.11/dist-packages (from langchain_community) (2.0.2)\n",
            "Requirement already satisfied: openai<2.0.0,>=1.86.0 in /usr/local/lib/python3.11/dist-packages (from langchain-openai) (1.93.0)\n",
            "Requirement already satisfied: tiktoken<1,>=0.7 in /usr/local/lib/python3.11/dist-packages (from langchain-openai) (0.9.0)\n",
            "Requirement already satisfied: click>=8.1.8 in /usr/local/lib/python3.11/dist-packages (from duckduckgo-search) (8.2.1)\n",
            "Requirement already satisfied: primp>=0.15.0 in /usr/local/lib/python3.11/dist-packages (from duckduckgo-search) (0.15.0)\n",
            "Requirement already satisfied: lxml>=5.3.0 in /usr/local/lib/python3.11/dist-packages (from duckduckgo-search) (5.4.0)\n",
            "Requirement already satisfied: aiohappyeyeballs>=2.3.0 in /usr/local/lib/python3.11/dist-packages (from aiohttp<4.0.0,>=3.8.3->langchain_community) (2.6.1)\n",
            "Requirement already satisfied: aiosignal>=1.1.2 in /usr/local/lib/python3.11/dist-packages (from aiohttp<4.0.0,>=3.8.3->langchain_community) (1.3.2)\n",
            "Requirement already satisfied: attrs>=17.3.0 in /usr/local/lib/python3.11/dist-packages (from aiohttp<4.0.0,>=3.8.3->langchain_community) (25.3.0)\n",
            "Requirement already satisfied: frozenlist>=1.1.1 in /usr/local/lib/python3.11/dist-packages (from aiohttp<4.0.0,>=3.8.3->langchain_community) (1.7.0)\n",
            "Requirement already satisfied: multidict<7.0,>=4.5 in /usr/local/lib/python3.11/dist-packages (from aiohttp<4.0.0,>=3.8.3->langchain_community) (6.6.3)\n",
            "Requirement already satisfied: propcache>=0.2.0 in /usr/local/lib/python3.11/dist-packages (from aiohttp<4.0.0,>=3.8.3->langchain_community) (0.3.2)\n",
            "Requirement already satisfied: yarl<2.0,>=1.17.0 in /usr/local/lib/python3.11/dist-packages (from aiohttp<4.0.0,>=3.8.3->langchain_community) (1.20.1)\n",
            "Requirement already satisfied: marshmallow<4.0.0,>=3.18.0 in /usr/local/lib/python3.11/dist-packages (from dataclasses-json<0.7,>=0.5.7->langchain_community) (3.26.1)\n",
            "Requirement already satisfied: typing-inspect<1,>=0.4.0 in /usr/local/lib/python3.11/dist-packages (from dataclasses-json<0.7,>=0.5.7->langchain_community) (0.9.0)\n",
            "Requirement already satisfied: langchain-text-splitters<1.0.0,>=0.3.8 in /usr/local/lib/python3.11/dist-packages (from langchain<1.0.0,>=0.3.26->langchain_community) (0.3.8)\n",
            "Requirement already satisfied: pydantic<3.0.0,>=2.7.4 in /usr/local/lib/python3.11/dist-packages (from langchain<1.0.0,>=0.3.26->langchain_community) (2.11.7)\n",
            "Requirement already satisfied: jsonpatch<2.0,>=1.33 in /usr/local/lib/python3.11/dist-packages (from langchain-core<1.0.0,>=0.3.66->langchain_community) (1.33)\n",
            "Requirement already satisfied: packaging<25,>=23.2 in /usr/local/lib/python3.11/dist-packages (from langchain-core<1.0.0,>=0.3.66->langchain_community) (24.2)\n",
            "Requirement already satisfied: typing-extensions>=4.7 in /usr/local/lib/python3.11/dist-packages (from langchain-core<1.0.0,>=0.3.66->langchain_community) (4.14.0)\n",
            "Requirement already satisfied: httpx<1,>=0.23.0 in /usr/local/lib/python3.11/dist-packages (from langsmith>=0.1.125->langchain_community) (0.28.1)\n",
            "Requirement already satisfied: orjson<4.0.0,>=3.9.14 in /usr/local/lib/python3.11/dist-packages (from langsmith>=0.1.125->langchain_community) (3.10.18)\n",
            "Requirement already satisfied: requests-toolbelt<2.0.0,>=1.0.0 in /usr/local/lib/python3.11/dist-packages (from langsmith>=0.1.125->langchain_community) (1.0.0)\n",
            "Requirement already satisfied: zstandard<0.24.0,>=0.23.0 in /usr/local/lib/python3.11/dist-packages (from langsmith>=0.1.125->langchain_community) (0.23.0)\n",
            "Requirement already satisfied: anyio<5,>=3.5.0 in /usr/local/lib/python3.11/dist-packages (from openai<2.0.0,>=1.86.0->langchain-openai) (4.9.0)\n",
            "Requirement already satisfied: distro<2,>=1.7.0 in /usr/local/lib/python3.11/dist-packages (from openai<2.0.0,>=1.86.0->langchain-openai) (1.9.0)\n",
            "Requirement already satisfied: jiter<1,>=0.4.0 in /usr/local/lib/python3.11/dist-packages (from openai<2.0.0,>=1.86.0->langchain-openai) (0.10.0)\n",
            "Requirement already satisfied: sniffio in /usr/local/lib/python3.11/dist-packages (from openai<2.0.0,>=1.86.0->langchain-openai) (1.3.1)\n",
            "Requirement already satisfied: tqdm>4 in /usr/local/lib/python3.11/dist-packages (from openai<2.0.0,>=1.86.0->langchain-openai) (4.67.1)\n",
            "Requirement already satisfied: python-dotenv>=0.21.0 in /usr/local/lib/python3.11/dist-packages (from pydantic-settings<3.0.0,>=2.4.0->langchain_community) (1.1.1)\n",
            "Requirement already satisfied: typing-inspection>=0.4.0 in /usr/local/lib/python3.11/dist-packages (from pydantic-settings<3.0.0,>=2.4.0->langchain_community) (0.4.1)\n",
            "Requirement already satisfied: charset-normalizer<4,>=2 in /usr/local/lib/python3.11/dist-packages (from requests<3,>=2->langchain_community) (3.4.2)\n",
            "Requirement already satisfied: idna<4,>=2.5 in /usr/local/lib/python3.11/dist-packages (from requests<3,>=2->langchain_community) (3.10)\n",
            "Requirement already satisfied: urllib3<3,>=1.21.1 in /usr/local/lib/python3.11/dist-packages (from requests<3,>=2->langchain_community) (2.4.0)\n",
            "Requirement already satisfied: certifi>=2017.4.17 in /usr/local/lib/python3.11/dist-packages (from requests<3,>=2->langchain_community) (2025.6.15)\n",
            "Requirement already satisfied: greenlet>=1 in /usr/local/lib/python3.11/dist-packages (from SQLAlchemy<3,>=1.4->langchain_community) (3.2.3)\n",
            "Requirement already satisfied: regex>=2022.1.18 in /usr/local/lib/python3.11/dist-packages (from tiktoken<1,>=0.7->langchain-openai) (2024.11.6)\n",
            "Requirement already satisfied: httpcore==1.* in /usr/local/lib/python3.11/dist-packages (from httpx<1,>=0.23.0->langsmith>=0.1.125->langchain_community) (1.0.9)\n",
            "Requirement already satisfied: h11>=0.16 in /usr/local/lib/python3.11/dist-packages (from httpcore==1.*->httpx<1,>=0.23.0->langsmith>=0.1.125->langchain_community) (0.16.0)\n",
            "Requirement already satisfied: jsonpointer>=1.9 in /usr/local/lib/python3.11/dist-packages (from jsonpatch<2.0,>=1.33->langchain-core<1.0.0,>=0.3.66->langchain_community) (3.0.0)\n",
            "Requirement already satisfied: annotated-types>=0.6.0 in /usr/local/lib/python3.11/dist-packages (from pydantic<3.0.0,>=2.7.4->langchain<1.0.0,>=0.3.26->langchain_community) (0.7.0)\n",
            "Requirement already satisfied: pydantic-core==2.33.2 in /usr/local/lib/python3.11/dist-packages (from pydantic<3.0.0,>=2.7.4->langchain<1.0.0,>=0.3.26->langchain_community) (2.33.2)\n",
            "Requirement already satisfied: mypy-extensions>=0.3.0 in /usr/local/lib/python3.11/dist-packages (from typing-inspect<1,>=0.4.0->dataclasses-json<0.7,>=0.5.7->langchain_community) (1.1.0)\n",
            "Downloading ddgs-9.0.0-py3-none-any.whl (17 kB)\n",
            "Installing collected packages: ddgs\n",
            "Successfully installed ddgs-9.0.0\n"
          ]
        }
      ]
    },
    {
      "cell_type": "code",
      "source": [
        "from google.colab import userdata\n",
        "from langchain_community.llms import OpenAI\n",
        "\n",
        "llm = OpenAI(\n",
        "    base_url=userdata.get('baseurl'),\n",
        "    api_key=userdata.get('apikey'),\n",
        "    model='meta-llama/Llama-3.3-70B-Instruct',\n",
        "  )\n",
        "\n",
        "\n",
        "from langchain.chat_models import ChatOpenAI\n",
        "\n",
        "llm_chat = ChatOpenAI(\n",
        "    base_url=userdata.get('baseurl'),\n",
        "    api_key=userdata.get('apikey'),\n",
        "    model='meta-llama/Llama-3.3-70B-Instruct',\n",
        "    temperature=0\n",
        "  )"
      ],
      "metadata": {
        "id": "0XF9OQiKSUcv"
      },
      "execution_count": 16,
      "outputs": []
    },
    {
      "cell_type": "code",
      "execution_count": 2,
      "metadata": {
        "id": "H5cC_f_KOUIK"
      },
      "outputs": [],
      "source": [
        "from langchain.tools import Tool\n",
        "from langchain_community.tools import DuckDuckGoSearchRun\n",
        "\n",
        "searcher = DuckDuckGoSearchRun()\n",
        "def search_tool(query: str) -> str:\n",
        "    \"\"\"Ищет в интернете с помощью DuckDuckGo и возвращает краткий результат.\"\"\"\n",
        "    return searcher.run(query)\n",
        "\n",
        "tool_search = Tool.from_function(\n",
        "    func=search_tool,\n",
        "    name=\"search\",\n",
        "    description=\"Используется для веб-поиска: принимает строку-запрос и возвращает найденный текст.\"\n",
        ")"
      ]
    },
    {
      "cell_type": "code",
      "source": [
        "from langchain.tools import Tool\n",
        "from langchain.chains import LLMMathChain\n",
        "from langchain_community.llms import OpenAI\n",
        "\n",
        "# инициализируем LLMMathChain на базе OpenAI-LLM\n",
        "llm_math = LLMMathChain.from_llm(llm)\n",
        "\n",
        "def calc_tool(expression: str) -> str:\n",
        "    \"\"\"Вычисляет математическое выражение через LLMMathChain.\"\"\"\n",
        "    return llm_math.run(expression)\n",
        "\n",
        "tool_calc = Tool.from_function(\n",
        "    func=calc_tool,\n",
        "    name=\"calculator\",\n",
        "    description=\"Выполняет точные математические вычисления.\"\n",
        ")\n"
      ],
      "metadata": {
        "id": "A8jJPdreOdZC"
      },
      "execution_count": 15,
      "outputs": []
    },
    {
      "cell_type": "code",
      "source": [
        "import pandas as pd\n",
        "from langchain.tools import Tool\n",
        "\n",
        "def csv_parser(file_path: str) -> str:\n",
        "    \"\"\"\n",
        "    Считывает CSV, возвращает первые 5 строк в виде строки.\n",
        "    Полезно для обзора структуры и быстрых подсказок.\n",
        "    \"\"\"\n",
        "    df = pd.read_csv(file_path)\n",
        "    return df.head().to_csv(index=False)\n",
        "\n",
        "tool_csv = Tool.from_function(\n",
        "    func=csv_parser,\n",
        "    name=\"csv_parser\",\n",
        "    description=\"Парсит CSV-файл и возвращает первые строки.\"\n",
        ")\n"
      ],
      "metadata": {
        "id": "ZkUOBy1ZO4sF"
      },
      "execution_count": 5,
      "outputs": []
    },
    {
      "cell_type": "code",
      "source": [
        "from langchain.memory import ConversationBufferMemory\n",
        "\n",
        "memory_buffer = ConversationBufferMemory(\n",
        "    memory_key=\"chat_history\",\n",
        "    return_messages=True\n",
        ")\n"
      ],
      "metadata": {
        "colab": {
          "base_uri": "https://localhost:8080/"
        },
        "id": "y5jTXJzjPB0M",
        "outputId": "0d321500-52e9-4922-e2c5-c1b1fcab31be"
      },
      "execution_count": 6,
      "outputs": [
        {
          "output_type": "stream",
          "name": "stderr",
          "text": [
            "/tmp/ipython-input-6-3142955513.py:3: LangChainDeprecationWarning: Please see the migration guide at: https://python.langchain.com/docs/versions/migrating_memory/\n",
            "  memory_buffer = ConversationBufferMemory(\n"
          ]
        }
      ]
    },
    {
      "cell_type": "code",
      "source": [
        "from google.colab import userdata\n",
        "\n",
        "from langchain.memory import ConversationSummaryMemory\n",
        "from langchain.chat_models import ChatOpenAI\n",
        "\n",
        "memory_summary = ConversationSummaryMemory(\n",
        "    llm=llm_chat,\n",
        "    memory_key=\"summary\",\n",
        "    llm_prefix=\"Assistant:\"\n",
        ")\n"
      ],
      "metadata": {
        "id": "sz17YEgWPBww"
      },
      "execution_count": 17,
      "outputs": []
    },
    {
      "cell_type": "code",
      "source": [
        "from langchain.chat_models import ChatOpenAI\n",
        "from langchain.agents import initialize_agent, AgentType\n",
        "from langchain_community.tools import DuckDuckGoSearchRun\n",
        "\n",
        "try:\n",
        "    tools = [tool_search, tool_calc]\n",
        "except ImportError:\n",
        "    print(\"Warning: LLMMath could not be imported. The calculator tool will not be available.\")\n",
        "    tools = [tool_search]\n",
        "\n",
        "\n",
        "agent_react = initialize_agent(\n",
        "    tools,\n",
        "    llm,\n",
        "    agent=AgentType.ZERO_SHOT_REACT_DESCRIPTION,\n",
        "    memory=memory_buffer,\n",
        "    verbose=True\n",
        ")\n",
        "\n",
        "# Пример запуска:\n",
        "response = agent_react.run(\"Кто выиграл чемпионат мира по футболу 2022 и сколько лет прошло?\")\n",
        "print(response)"
      ],
      "metadata": {
        "colab": {
          "base_uri": "https://localhost:8080/"
        },
        "id": "1mFvEo14PBqS",
        "outputId": "9e4cde96-477d-4368-8bef-3d8d8adf5a81"
      },
      "execution_count": 18,
      "outputs": [
        {
          "output_type": "stream",
          "name": "stderr",
          "text": [
            "/tmp/ipython-input-18-697139883.py:12: LangChainDeprecationWarning: LangChain agents will continue to be supported, but it is recommended for new use cases to be built with LangGraph. LangGraph offers a more flexible and full-featured framework for building agents, including support for tool-calling, persistence of state, and human-in-the-loop workflows. For details, refer to the `LangGraph documentation <https://langchain-ai.github.io/langgraph/>`_ as well as guides for `Migrating from AgentExecutor <https://python.langchain.com/docs/how_to/migrate_agent/>`_ and LangGraph's `Pre-built ReAct agent <https://langchain-ai.github.io/langgraph/how-tos/create-react-agent/>`_.\n",
            "  agent_react = initialize_agent(\n",
            "/tmp/ipython-input-18-697139883.py:21: LangChainDeprecationWarning: The method `Chain.run` was deprecated in langchain 0.1.0 and will be removed in 1.0. Use :meth:`~invoke` instead.\n",
            "  response = agent_react.run(\"Кто выиграл чемпионат мира по футболу 2022 и сколько лет прошло?\")\n"
          ]
        },
        {
          "output_type": "stream",
          "name": "stdout",
          "text": [
            "\n",
            "\n",
            "\u001b[1m> Entering new AgentExecutor chain...\u001b[0m\n",
            "\u001b[32;1m\u001b[1;3m Я не знаю, кто выиграл чемпионат мира по футболу 2022 года, но я знаю, что он проходил в Катаре. Чтобы узнать победителя, мне нужно поискать в интернете.\n",
            "Action: search\n",
            "Action Input: Победитель чемпионата мира по футболу 2022\u001b[0m"
          ]
        },
        {
          "output_type": "stream",
          "name": "stderr",
          "text": [
            "/usr/local/lib/python3.11/dist-packages/langchain_community/utilities/duckduckgo_search.py:63: RuntimeWarning: This package (`duckduckgo_search`) has been renamed to `ddgs`! Use `pip install ddgs` instead.\n",
            "  with DDGS() as ddgs:\n"
          ]
        },
        {
          "output_type": "stream",
          "name": "stdout",
          "text": [
            "\n",
            "Observation: \u001b[36;1m\u001b[1;3mAug 22, 2024 · Вспоминаем всех победителей чемпионатов мира по футболу. Из-за разногласий с Международной федерацией футбола (далее – ФИФА) англичане не … 6 days ago · В первом раунде 12 худших по рейтингу команд ( занимают места с 35 по 46) сыграли на выбывание по принципу «дома, в гостях». 6 победителей игр: Монголия, Шри … Jun 28, 2025 · 18 декабря завершился чемпионат мира по футболу в Катаре. Его победителем стала сборная Аргентины, серебряным призером — команда Франции, а бронзовые … Nov 1, 2024 · Все матчи и результаты чемпионатов мира FIFA: групповой этап, плей-офф, 16-й раунд, четвертьфиналы, полуфиналы, плей-офф за третье место и финальный матч 2022 … Nov 12, 2024 · Английская сборная по футболу стала победителем Чемпионата мира 2022 года, который проходил в Катаре.\u001b[0m\n",
            "Thought:"
          ]
        },
        {
          "output_type": "stream",
          "name": "stderr",
          "text": [
            "/usr/local/lib/python3.11/dist-packages/langchain_community/llms/openai.py:469: PydanticDeprecatedSince20: The `dict` method is deprecated; use `model_dump` instead. Deprecated in Pydantic V2.0 to be removed in V3.0. See Pydantic V2 Migration Guide at https://errors.pydantic.dev/2.11/migration/\n",
            "  response = response.dict()\n",
            "/usr/local/lib/python3.11/dist-packages/langchain_community/utilities/duckduckgo_search.py:63: RuntimeWarning: This package (`duckduckgo_search`) has been renamed to `ddgs`! Use `pip install ddgs` instead.\n",
            "  with DDGS() as ddgs:\n"
          ]
        },
        {
          "output_type": "stream",
          "name": "stdout",
          "text": [
            "\u001b[32;1m\u001b[1;3m Я нашел противоречивую информацию о победителе чемпионата мира по футболу 2022 года, поэтому мне нужно провести еще один поиск, чтобы подтвердить ответ.\n",
            "Action: search\n",
            "Action Input: Кто выиграл чемпионат мира по футболу 2022\u001b[0m\n",
            "Observation: \u001b[36;1m\u001b[1;3mAug 22, 2024 · Сборная Англии, ведомая легендарным полузащитником Бобби Чарльтоном, выиграла домашний мундиаль 1966 года, пройдя весь турнир без ﻿поражений. В … Jun 28, 2025 · 18 декабря завершился чемпионат мира по футболу в Катаре. Его победителем стала сборная Аргентины, серебряным призером — команда Франции, а … Nov 1, 2024 · Все матчи и результаты чемпионатов мира FIFA: групповой этап, плей-офф, 16-й раунд, четвертьфиналы, полуфиналы, плей-офф за третье место и финальный матч … Mar 20, 2025 · Бывший футболист сборной Франции Патрис Эвра заявил, что Лионелю Месси отдали победу на чемпионате мира 2022 года. Nov 1, 2024 · Команда 2022 FIFA World Cup станет 22-м чемпионатом мира ФИФА, четырехлетним международным чемпионатом по футболу среди мужчин, в котором …\u001b[0m\n",
            "Thought:"
          ]
        },
        {
          "output_type": "stream",
          "name": "stderr",
          "text": [
            "/usr/local/lib/python3.11/dist-packages/langchain_community/llms/openai.py:469: PydanticDeprecatedSince20: The `dict` method is deprecated; use `model_dump` instead. Deprecated in Pydantic V2.0 to be removed in V3.0. See Pydantic V2 Migration Guide at https://errors.pydantic.dev/2.11/migration/\n",
            "  response = response.dict()\n"
          ]
        },
        {
          "output_type": "stream",
          "name": "stdout",
          "text": [
            "\u001b[32;1m\u001b[1;3m На основе моих исследований я считаю, что Аргентина выиграла чемпионат мира по футболу 2022 года, но мне нужно вычислить количество лет, прошедших с тех пор.\n",
            "Action: calculator\n",
            "Action Input: 2024-2022\u001b[0m"
          ]
        },
        {
          "output_type": "stream",
          "name": "stderr",
          "text": [
            "/usr/local/lib/python3.11/dist-packages/langchain_community/llms/openai.py:469: PydanticDeprecatedSince20: The `dict` method is deprecated; use `model_dump` instead. Deprecated in Pydantic V2.0 to be removed in V3.0. See Pydantic V2 Migration Guide at https://errors.pydantic.dev/2.11/migration/\n",
            "  response = response.dict()\n"
          ]
        },
        {
          "output_type": "stream",
          "name": "stdout",
          "text": [
            "\n",
            "Observation: \u001b[33;1m\u001b[1;3mAnswer: 2\u001b[0m\n",
            "Thought:\u001b[32;1m\u001b[1;3m Я теперь знаю окончательный ответ\n",
            "Final Answer: Аргентина выиграла чемпионат мира по футболу 2022 года и прошло 2 года.\u001b[0m\n",
            "\n",
            "\u001b[1m> Finished chain.\u001b[0m\n",
            "Аргентина выиграла чемпионат мира по футболу 2022 года и прошло 2 года.\n"
          ]
        },
        {
          "output_type": "stream",
          "name": "stderr",
          "text": [
            "/usr/local/lib/python3.11/dist-packages/langchain_community/llms/openai.py:469: PydanticDeprecatedSince20: The `dict` method is deprecated; use `model_dump` instead. Deprecated in Pydantic V2.0 to be removed in V3.0. See Pydantic V2 Migration Guide at https://errors.pydantic.dev/2.11/migration/\n",
            "  response = response.dict()\n"
          ]
        }
      ]
    },
    {
      "cell_type": "code",
      "source": [
        "from langchain.prompts import PromptTemplate\n",
        "from langchain.chains import LLMChain, SequentialChain\n",
        "\n",
        "# Шаг 1: генерируем план\n",
        "plan_prompt = PromptTemplate(\n",
        "    input_variables=[\"input\"],\n",
        "    template=\"Построй план из шагов для достижения цели: {input}\\nПлан:\\n\"\n",
        ")\n",
        "plan_chain = LLMChain(llm=llm, prompt=plan_prompt, output_key=\"plan\")\n",
        "\n",
        "# Шаг 2: выполняем план\n",
        "exec_prompt = PromptTemplate(\n",
        "    input_variables=[\"plan\"],\n",
        "    template=\"У тебя есть план:\\n{plan}\\nПоследовательно выполни шаги и выдай результат.\"\n",
        ")\n",
        "exec_chain = LLMChain(llm=llm, prompt=exec_prompt, output_key=\"final_output\")\n",
        "\n",
        "agent_plan_execute = SequentialChain(\n",
        "    chains=[plan_chain, exec_chain],\n",
        "    input_variables=[\"input\"],\n",
        "    output_variables=[\"plan\", \"final_output\"],\n",
        "    verbose=True\n",
        ")\n",
        "\n",
        "# Пример запуска:\n",
        "result = agent_plan_execute({\"input\": \"Подготовить сводный отчёт по новостям AI за неделю\"})\n",
        "print(result[\"final_output\"])\n"
      ],
      "metadata": {
        "colab": {
          "base_uri": "https://localhost:8080/"
        },
        "id": "QQZlZlxKPYr4",
        "outputId": "d9c5656a-5080-4851-ca7b-aa6aa932d7dc"
      },
      "execution_count": 20,
      "outputs": [
        {
          "output_type": "stream",
          "name": "stderr",
          "text": [
            "<frozen importlib._bootstrap>:1047: ImportWarning: _PyDriveImportHook.find_spec() not found; falling back to find_module()\n",
            "<frozen importlib._bootstrap>:1047: ImportWarning: _BokehImportHook.find_spec() not found; falling back to find_module()\n",
            "<frozen importlib._bootstrap>:1047: ImportWarning: _PyDriveImportHook.find_spec() not found; falling back to find_module()\n",
            "<frozen importlib._bootstrap>:1047: ImportWarning: _BokehImportHook.find_spec() not found; falling back to find_module()\n",
            "<frozen importlib._bootstrap>:1047: ImportWarning: _PyDriveImportHook.find_spec() not found; falling back to find_module()\n",
            "<frozen importlib._bootstrap>:1047: ImportWarning: _BokehImportHook.find_spec() not found; falling back to find_module()\n",
            "<frozen importlib._bootstrap>:1047: ImportWarning: _PyDriveImportHook.find_spec() not found; falling back to find_module()\n",
            "<frozen importlib._bootstrap>:1047: ImportWarning: _BokehImportHook.find_spec() not found; falling back to find_module()\n",
            "<frozen importlib._bootstrap>:1047: ImportWarning: _PyDriveImportHook.find_spec() not found; falling back to find_module()\n",
            "<frozen importlib._bootstrap>:1047: ImportWarning: _BokehImportHook.find_spec() not found; falling back to find_module()\n",
            "/tmp/ipython-input-20-1400889632.py:9: LangChainDeprecationWarning: The class `LLMChain` was deprecated in LangChain 0.1.17 and will be removed in 1.0. Use :meth:`~RunnableSequence, e.g., `prompt | llm`` instead.\n",
            "  plan_chain = LLMChain(llm=llm, prompt=plan_prompt, output_key=\"plan\")\n",
            "/tmp/ipython-input-20-1400889632.py:26: LangChainDeprecationWarning: The method `Chain.__call__` was deprecated in langchain 0.1.0 and will be removed in 1.0. Use :meth:`~invoke` instead.\n",
            "  result = agent_plan_execute({\"input\": \"Подготовить сводный отчёт по новостям AI за неделю\"})\n"
          ]
        },
        {
          "output_type": "stream",
          "name": "stdout",
          "text": [
            "\n",
            "\n",
            "\u001b[1m> Entering new SequentialChain chain...\u001b[0m\n"
          ]
        },
        {
          "output_type": "stream",
          "name": "stderr",
          "text": [
            "/usr/local/lib/python3.11/dist-packages/langchain_community/llms/openai.py:469: PydanticDeprecatedSince20: The `dict` method is deprecated; use `model_dump` instead. Deprecated in Pydantic V2.0 to be removed in V3.0. See Pydantic V2 Migration Guide at https://errors.pydantic.dev/2.11/migration/\n",
            "  response = response.dict()\n"
          ]
        },
        {
          "output_type": "stream",
          "name": "stdout",
          "text": [
            "\n",
            "\u001b[1m> Finished chain.\u001b[0m\n",
            " \n",
            "\n",
            "## Шаг 1: Сбор и фильтрация информации\n",
            "Следуя новостным источникам, специализирующимся на ИИ, за последнюю неделю были собраны следующие новости:\n",
            "- Запуск нового ИИ-ассистента для медицинских исследований.\n",
            "- Развитие алгоритмов для более точного распознавания речи.\n",
            "- Применение ИИ в системах автономного вождения.\n",
            "- Публикация статьи о потенциальных рисках ИИ.\n",
            "\n",
            "Отфильтровав по актуальности, важности и теме, остаются новости о запуске ИИ-ассистента, развитии алгоритмов распознавания речи и применении ИИ в автономном вождении.\n",
            "\n",
            "## Шаг 2: Организация информации\n",
            "Категоризация новостей по темам:\n",
            "- **Разработки**: Запуск нового ИИ-ассистента для медицинских исследований, развитие алгоритмов для более точного распознавания речи.\n",
            "- **Применения**: Применение ИИ в системах автономного вождения.\n",
            "\n",
            "Упоряд\n"
          ]
        },
        {
          "output_type": "stream",
          "name": "stderr",
          "text": [
            "/usr/local/lib/python3.11/dist-packages/langchain_community/llms/openai.py:469: PydanticDeprecatedSince20: The `dict` method is deprecated; use `model_dump` instead. Deprecated in Pydantic V2.0 to be removed in V3.0. See Pydantic V2 Migration Guide at https://errors.pydantic.dev/2.11/migration/\n",
            "  response = response.dict()\n"
          ]
        }
      ]
    },
    {
      "cell_type": "code",
      "source": [
        "from langchain.chains import LLMChain\n",
        "\n",
        "# Базовый генератор ответа\n",
        "gen_prompt = PromptTemplate(\n",
        "    input_variables=[\"input\"],\n",
        "    template=\"Сгенерируй решение задачи: {input}\"\n",
        ")\n",
        "gen_chain = LLMChain(llm=llm, prompt=gen_prompt, memory=memory_summary)\n",
        "\n",
        "# Критик цепочка\n",
        "critique_prompt = PromptTemplate(\n",
        "    input_variables=[\"solution\"],\n",
        "    template=\"Критически оцени это решение и предложи улучшения:\\n{solution}\"\n",
        ")\n",
        "crit_chain = LLMChain(llm=llm, prompt=critique_prompt, memory=memory_summary)\n",
        "\n",
        "def reflective_agent(user_input: str) -> str:\n",
        "    # 1) Первичное решение\n",
        "    solution = gen_chain.run(user_input)\n",
        "    # 2) Критика и доработка\n",
        "    critique = crit_chain.run({\"solution\": solution})\n",
        "    if \"недостаточно\" in critique.lower():\n",
        "        # если есть замечания — генерируем улучшенный вариант\n",
        "        return gen_chain.run(user_input + \"\\nИсправь на основе: \" + critique)\n",
        "    return solution\n",
        "\n",
        "# Пример:\n",
        "print(reflective_agent(\"Напиши краткий план обучения по NLP для начинающих\"))\n"
      ],
      "metadata": {
        "colab": {
          "base_uri": "https://localhost:8080/"
        },
        "id": "-GeO4hm7PYos",
        "outputId": "81c86283-490d-412a-c8ba-ec32d24fed84"
      },
      "execution_count": 21,
      "outputs": [
        {
          "output_type": "stream",
          "name": "stderr",
          "text": [
            "/usr/local/lib/python3.11/dist-packages/langchain_community/llms/openai.py:469: PydanticDeprecatedSince20: The `dict` method is deprecated; use `model_dump` instead. Deprecated in Pydantic V2.0 to be removed in V3.0. See Pydantic V2 Migration Guide at https://errors.pydantic.dev/2.11/migration/\n",
            "  response = response.dict()\n",
            "/usr/local/lib/python3.11/dist-packages/langchain_community/chat_models/openai.py:495: PydanticDeprecatedSince20: The `dict` method is deprecated; use `model_dump` instead. Deprecated in Pydantic V2.0 to be removed in V3.0. See Pydantic V2 Migration Guide at https://errors.pydantic.dev/2.11/migration/\n",
            "  response = response.dict()\n",
            "/usr/local/lib/python3.11/dist-packages/langchain_community/llms/openai.py:469: PydanticDeprecatedSince20: The `dict` method is deprecated; use `model_dump` instead. Deprecated in Pydantic V2.0 to be removed in V3.0. See Pydantic V2 Migration Guide at https://errors.pydantic.dev/2.11/migration/\n",
            "  response = response.dict()\n",
            "/usr/local/lib/python3.11/dist-packages/langchain_community/chat_models/openai.py:495: PydanticDeprecatedSince20: The `dict` method is deprecated; use `model_dump` instead. Deprecated in Pydantic V2.0 to be removed in V3.0. See Pydantic V2 Migration Guide at https://errors.pydantic.dev/2.11/migration/\n",
            "  response = response.dict()\n",
            "/usr/local/lib/python3.11/dist-packages/langchain_community/llms/openai.py:469: PydanticDeprecatedSince20: The `dict` method is deprecated; use `model_dump` instead. Deprecated in Pydantic V2.0 to be removed in V3.0. See Pydantic V2 Migration Guide at https://errors.pydantic.dev/2.11/migration/\n",
            "  response = response.dict()\n"
          ]
        },
        {
          "output_type": "stream",
          "name": "stdout",
          "text": [
            "е. \n",
            "\n",
            "План обучения по NLP для начинающих:\n",
            "\n",
            "**Уровень 1: Введение в NLP**\n",
            "\n",
            "1.1. Определение NLP и его основные принципы.\n",
            "1.2. Введение в моделирование, коммуникацию и изменение.\n",
            "1.3. Практические упражнения: саморефлексия и осознание своих мыслей, эмоций и поведения.\n",
            "\n",
            "**Уровень 2: Основы коммуникации**\n",
            "\n",
            "2.1. Язык и коммуникация: вербальный и невербальный.\n",
            "2.2. Активное слушание и сочувствие.\n",
            "2.3. Практические упражнения: улучшение коммуникационных навыков в личных и профессиональных отношениях.\n",
            "\n",
            "**Уровень 3: Понимание себя и других**\n",
            "\n",
            "3.1. Понимание себя: ценности, убеждения и представления.\n",
            "3.2. Понимание других: эмпатия и перспектива.\n",
            "3.3. Практические упражнения: самосовершенствование и улучшение отношений.\n",
            "\n",
            "\n"
          ]
        },
        {
          "output_type": "stream",
          "name": "stderr",
          "text": [
            "/usr/local/lib/python3.11/dist-packages/langchain_community/chat_models/openai.py:495: PydanticDeprecatedSince20: The `dict` method is deprecated; use `model_dump` instead. Deprecated in Pydantic V2.0 to be removed in V3.0. See Pydantic V2 Migration Guide at https://errors.pydantic.dev/2.11/migration/\n",
            "  response = response.dict()\n"
          ]
        }
      ]
    },
    {
      "cell_type": "code",
      "source": [],
      "metadata": {
        "id": "-OYf-Rf0PBnd"
      },
      "execution_count": null,
      "outputs": []
    },
    {
      "cell_type": "markdown",
      "metadata": {
        "id": "2dae02da"
      },
      "source": [
        "Here is the corrected code to initialize `SerpAPIWrapper` using the API key stored in Colab's Secrets Manager."
      ]
    }
  ]
}