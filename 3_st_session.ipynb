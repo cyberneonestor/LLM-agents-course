{
  "nbformat": 4,
  "nbformat_minor": 0,
  "metadata": {
    "colab": {
      "provenance": []
    },
    "kernelspec": {
      "name": "python3",
      "display_name": "Python 3"
    },
    "language_info": {
      "name": "python"
    }
  },
  "cells": [
    {
      "cell_type": "markdown",
      "source": [],
      "metadata": {
        "id": "fEAdHgl96RP7"
      }
    },
    {
      "cell_type": "code",
      "source": [],
      "metadata": {
        "id": "iE7Bfgke6QS-"
      },
      "execution_count": null,
      "outputs": []
    },
    {
      "cell_type": "code",
      "source": [
        "!pip install langchain_community langchain-openai openai"
      ],
      "metadata": {
        "colab": {
          "base_uri": "https://localhost:8080/"
        },
        "collapsed": true,
        "id": "GKlC3m87zw45",
        "outputId": "4fddad34-0481-4f0e-e879-333d6338fbe4"
      },
      "execution_count": 8,
      "outputs": [
        {
          "output_type": "stream",
          "name": "stdout",
          "text": [
            "Requirement already satisfied: langchain_community in /usr/local/lib/python3.11/dist-packages (0.3.27)\n",
            "Requirement already satisfied: langchain-openai in /usr/local/lib/python3.11/dist-packages (0.3.27)\n",
            "Requirement already satisfied: openai in /usr/local/lib/python3.11/dist-packages (1.93.0)\n",
            "Requirement already satisfied: langchain-core<1.0.0,>=0.3.66 in /usr/local/lib/python3.11/dist-packages (from langchain_community) (0.3.67)\n",
            "Requirement already satisfied: langchain<1.0.0,>=0.3.26 in /usr/local/lib/python3.11/dist-packages (from langchain_community) (0.3.26)\n",
            "Requirement already satisfied: SQLAlchemy<3,>=1.4 in /usr/local/lib/python3.11/dist-packages (from langchain_community) (2.0.41)\n",
            "Requirement already satisfied: requests<3,>=2 in /usr/local/lib/python3.11/dist-packages (from langchain_community) (2.32.3)\n",
            "Requirement already satisfied: PyYAML>=5.3 in /usr/local/lib/python3.11/dist-packages (from langchain_community) (6.0.2)\n",
            "Requirement already satisfied: aiohttp<4.0.0,>=3.8.3 in /usr/local/lib/python3.11/dist-packages (from langchain_community) (3.11.15)\n",
            "Requirement already satisfied: tenacity!=8.4.0,<10,>=8.1.0 in /usr/local/lib/python3.11/dist-packages (from langchain_community) (8.5.0)\n",
            "Requirement already satisfied: dataclasses-json<0.7,>=0.5.7 in /usr/local/lib/python3.11/dist-packages (from langchain_community) (0.6.7)\n",
            "Requirement already satisfied: pydantic-settings<3.0.0,>=2.4.0 in /usr/local/lib/python3.11/dist-packages (from langchain_community) (2.10.1)\n",
            "Requirement already satisfied: langsmith>=0.1.125 in /usr/local/lib/python3.11/dist-packages (from langchain_community) (0.4.4)\n",
            "Requirement already satisfied: httpx-sse<1.0.0,>=0.4.0 in /usr/local/lib/python3.11/dist-packages (from langchain_community) (0.4.1)\n",
            "Requirement already satisfied: numpy>=1.26.2 in /usr/local/lib/python3.11/dist-packages (from langchain_community) (2.0.2)\n",
            "Requirement already satisfied: tiktoken<1,>=0.7 in /usr/local/lib/python3.11/dist-packages (from langchain-openai) (0.9.0)\n",
            "Requirement already satisfied: anyio<5,>=3.5.0 in /usr/local/lib/python3.11/dist-packages (from openai) (4.9.0)\n",
            "Requirement already satisfied: distro<2,>=1.7.0 in /usr/local/lib/python3.11/dist-packages (from openai) (1.9.0)\n",
            "Requirement already satisfied: httpx<1,>=0.23.0 in /usr/local/lib/python3.11/dist-packages (from openai) (0.28.1)\n",
            "Requirement already satisfied: jiter<1,>=0.4.0 in /usr/local/lib/python3.11/dist-packages (from openai) (0.10.0)\n",
            "Requirement already satisfied: pydantic<3,>=1.9.0 in /usr/local/lib/python3.11/dist-packages (from openai) (2.11.7)\n",
            "Requirement already satisfied: sniffio in /usr/local/lib/python3.11/dist-packages (from openai) (1.3.1)\n",
            "Requirement already satisfied: tqdm>4 in /usr/local/lib/python3.11/dist-packages (from openai) (4.67.1)\n",
            "Requirement already satisfied: typing-extensions<5,>=4.11 in /usr/local/lib/python3.11/dist-packages (from openai) (4.14.0)\n",
            "Requirement already satisfied: aiohappyeyeballs>=2.3.0 in /usr/local/lib/python3.11/dist-packages (from aiohttp<4.0.0,>=3.8.3->langchain_community) (2.6.1)\n",
            "Requirement already satisfied: aiosignal>=1.1.2 in /usr/local/lib/python3.11/dist-packages (from aiohttp<4.0.0,>=3.8.3->langchain_community) (1.3.2)\n",
            "Requirement already satisfied: attrs>=17.3.0 in /usr/local/lib/python3.11/dist-packages (from aiohttp<4.0.0,>=3.8.3->langchain_community) (25.3.0)\n",
            "Requirement already satisfied: frozenlist>=1.1.1 in /usr/local/lib/python3.11/dist-packages (from aiohttp<4.0.0,>=3.8.3->langchain_community) (1.7.0)\n",
            "Requirement already satisfied: multidict<7.0,>=4.5 in /usr/local/lib/python3.11/dist-packages (from aiohttp<4.0.0,>=3.8.3->langchain_community) (6.6.3)\n",
            "Requirement already satisfied: propcache>=0.2.0 in /usr/local/lib/python3.11/dist-packages (from aiohttp<4.0.0,>=3.8.3->langchain_community) (0.3.2)\n",
            "Requirement already satisfied: yarl<2.0,>=1.17.0 in /usr/local/lib/python3.11/dist-packages (from aiohttp<4.0.0,>=3.8.3->langchain_community) (1.20.1)\n",
            "Requirement already satisfied: idna>=2.8 in /usr/local/lib/python3.11/dist-packages (from anyio<5,>=3.5.0->openai) (3.10)\n",
            "Requirement already satisfied: marshmallow<4.0.0,>=3.18.0 in /usr/local/lib/python3.11/dist-packages (from dataclasses-json<0.7,>=0.5.7->langchain_community) (3.26.1)\n",
            "Requirement already satisfied: typing-inspect<1,>=0.4.0 in /usr/local/lib/python3.11/dist-packages (from dataclasses-json<0.7,>=0.5.7->langchain_community) (0.9.0)\n",
            "Requirement already satisfied: certifi in /usr/local/lib/python3.11/dist-packages (from httpx<1,>=0.23.0->openai) (2025.6.15)\n",
            "Requirement already satisfied: httpcore==1.* in /usr/local/lib/python3.11/dist-packages (from httpx<1,>=0.23.0->openai) (1.0.9)\n",
            "Requirement already satisfied: h11>=0.16 in /usr/local/lib/python3.11/dist-packages (from httpcore==1.*->httpx<1,>=0.23.0->openai) (0.16.0)\n",
            "Requirement already satisfied: langchain-text-splitters<1.0.0,>=0.3.8 in /usr/local/lib/python3.11/dist-packages (from langchain<1.0.0,>=0.3.26->langchain_community) (0.3.8)\n",
            "Requirement already satisfied: jsonpatch<2.0,>=1.33 in /usr/local/lib/python3.11/dist-packages (from langchain-core<1.0.0,>=0.3.66->langchain_community) (1.33)\n",
            "Requirement already satisfied: packaging<25,>=23.2 in /usr/local/lib/python3.11/dist-packages (from langchain-core<1.0.0,>=0.3.66->langchain_community) (24.2)\n",
            "Requirement already satisfied: orjson<4.0.0,>=3.9.14 in /usr/local/lib/python3.11/dist-packages (from langsmith>=0.1.125->langchain_community) (3.10.18)\n",
            "Requirement already satisfied: requests-toolbelt<2.0.0,>=1.0.0 in /usr/local/lib/python3.11/dist-packages (from langsmith>=0.1.125->langchain_community) (1.0.0)\n",
            "Requirement already satisfied: zstandard<0.24.0,>=0.23.0 in /usr/local/lib/python3.11/dist-packages (from langsmith>=0.1.125->langchain_community) (0.23.0)\n",
            "Requirement already satisfied: annotated-types>=0.6.0 in /usr/local/lib/python3.11/dist-packages (from pydantic<3,>=1.9.0->openai) (0.7.0)\n",
            "Requirement already satisfied: pydantic-core==2.33.2 in /usr/local/lib/python3.11/dist-packages (from pydantic<3,>=1.9.0->openai) (2.33.2)\n",
            "Requirement already satisfied: typing-inspection>=0.4.0 in /usr/local/lib/python3.11/dist-packages (from pydantic<3,>=1.9.0->openai) (0.4.1)\n",
            "Requirement already satisfied: python-dotenv>=0.21.0 in /usr/local/lib/python3.11/dist-packages (from pydantic-settings<3.0.0,>=2.4.0->langchain_community) (1.1.1)\n",
            "Requirement already satisfied: charset-normalizer<4,>=2 in /usr/local/lib/python3.11/dist-packages (from requests<3,>=2->langchain_community) (3.4.2)\n",
            "Requirement already satisfied: urllib3<3,>=1.21.1 in /usr/local/lib/python3.11/dist-packages (from requests<3,>=2->langchain_community) (2.4.0)\n",
            "Requirement already satisfied: greenlet>=1 in /usr/local/lib/python3.11/dist-packages (from SQLAlchemy<3,>=1.4->langchain_community) (3.2.3)\n",
            "Requirement already satisfied: regex>=2022.1.18 in /usr/local/lib/python3.11/dist-packages (from tiktoken<1,>=0.7->langchain-openai) (2024.11.6)\n",
            "Requirement already satisfied: jsonpointer>=1.9 in /usr/local/lib/python3.11/dist-packages (from jsonpatch<2.0,>=1.33->langchain-core<1.0.0,>=0.3.66->langchain_community) (3.0.0)\n",
            "Requirement already satisfied: mypy-extensions>=0.3.0 in /usr/local/lib/python3.11/dist-packages (from typing-inspect<1,>=0.4.0->dataclasses-json<0.7,>=0.5.7->langchain_community) (1.1.0)\n"
          ]
        }
      ]
    },
    {
      "cell_type": "code",
      "execution_count": 15,
      "metadata": {
        "id": "6RrQgUwdzm8e"
      },
      "outputs": [],
      "source": [
        "import os, json\n",
        "from tenacity import retry, stop_after_attempt, wait_exponential\n",
        "from datetime import datetime\n",
        "from langchain_openai import OpenAI\n",
        "from langchain import LLMChain, PromptTemplate\n",
        "from langchain.agents import Tool, initialize_agent, AgentType\n",
        "from langchain.callbacks import get_openai_callback, StdOutCallbackHandler\n",
        "from langchain.memory import ConversationBufferMemory"
      ]
    },
    {
      "cell_type": "code",
      "source": [
        "from google.colab import userdata\n",
        "from openai import DefaultHttpxClient\n",
        "\n",
        "client = OpenAI(\n",
        "    base_url=userdata.get('baseurl'),\n",
        "    api_key=userdata.get('apikey'),\n",
        "    model='Qwen/Qwen3-235B-A22B',\n",
        "    http_client=DefaultHttpxClient(verify=False),\n",
        "    temperature=0.3\n",
        ")"
      ],
      "metadata": {
        "id": "Gf0FLXhmzsaq"
      },
      "execution_count": 14,
      "outputs": []
    },
    {
      "cell_type": "code",
      "source": [
        "def quiz_fn(topic: str) -> str:\n",
        "    tmpl = [\n",
        "        \"Ты эксперт в составлении квизов\"\n",
        "        \"Тема: {topic}\",\n",
        "        \"Составь вопрос квиза на заданную тему с 4 вариантами ответа.\"\n",
        "        \"Формат ответа: <q>str<\\q>\",\n",
        "        \"<ans1>str<\\ans1>\",\n",
        "        \"<ans2>str<\\ans2>\",\n",
        "        \"<ans3>str<\\ans3>\",\n",
        "        \"<ans4>str<\\ans4>\",\n",
        "        \"<right_ans>int<\\right_ans>\"\n",
        "    ]\n",
        "    tmpl = \"\\n\".join(tmpl)\n",
        "    prompt = PromptTemplate.from_template(tmpl)\n",
        "    # Use RunnableSequence instead of LLMChain and invoke instead of run\n",
        "    chain = prompt | client\n",
        "    return chain.invoke({\"topic\": topic})\n",
        "\n",
        "@retry(stop=stop_after_attempt(3), wait=wait_exponential(multiplier=1, min=1, max=4))\n",
        "def safe_quiz_fn(topic: str) -> str:\n",
        "    return quiz_fn(topic)\n",
        "\n",
        "def fallback_fn(topic: str) -> str:\n",
        "    return \"Извините, не удалось сгенерировать вопрос квиза после нескольких попыток.\"\n",
        "\n",
        "# 4) Инструмент Reflection для самокритики\n",
        "def reflection_fn(context: str) -> str:\n",
        "    tmpl = (\n",
        "        \"Ты — эксперт по рефлексии результатов агента. \"\n",
        "        \"Проанализируй следующий вывод и предложи улучшения:\\n\\n{context}\"\n",
        "    )\n",
        "    prompt = PromptTemplate.from_template(tmpl)\n",
        "    chain = prompt | client\n",
        "    return chain.invoke({\"context\": context})\n",
        "\n",
        "# 5) Контент-полиси фильтр (простой пример)\n",
        "def policy_filter(text: str) -> str:\n",
        "    # ловим email как PII\n",
        "    if re.search(r\"[A-Za-z0-9._%+-]+@[A-Za-z0-9.-]+\\.[A-Za-z]{2,}\", text):\n",
        "        return \"[Отфильтровано: обнаружено PII]\"\n",
        "    return text\n",
        "\n",
        "# 6) Регистрируем инструменты\n",
        "tools = [\n",
        "    Tool.from_function(safe_quiz_fn,   name=\"quiz\",     description=\"Генерация вопроса квиза\"),\n",
        "    Tool.from_function(reflection_fn,  name=\"reflect\",  description=\"Самокритика/рефлексия\"),\n",
        "    Tool.from_function(fallback_fn,    name=\"fallback\", description=\"Фоллбэк инструмент\"),\n",
        "]"
      ],
      "metadata": {
        "id": "7hahyZPt5IWP"
      },
      "execution_count": 16,
      "outputs": []
    },
    {
      "cell_type": "code",
      "source": [
        "memory = ConversationBufferMemory() # Память\n",
        "\n",
        "callbacks = [StdOutCallbackHandler()] # Callback-handlers: вывод в stdout + сбор метрик"
      ],
      "metadata": {
        "colab": {
          "base_uri": "https://localhost:8080/"
        },
        "id": "ZMXPF45U9JB5",
        "outputId": "9ac2dd46-b8fa-4656-bddd-c72e14858fc0"
      },
      "execution_count": 17,
      "outputs": [
        {
          "output_type": "stream",
          "name": "stderr",
          "text": [
            "/tmp/ipython-input-17-2055361212.py:1: LangChainDeprecationWarning: Please see the migration guide at: https://python.langchain.com/docs/versions/migrating_memory/\n",
            "  memory = ConversationBufferMemory() # Память\n"
          ]
        }
      ]
    },
    {
      "cell_type": "code",
      "source": [
        "agent = initialize_agent(\n",
        "    tools,\n",
        "    client,\n",
        "    agent=AgentType.ZERO_SHOT_REACT_DESCRIPTION,\n",
        "    memory=memory,\n",
        "    callbacks=callbacks,\n",
        "    verbose=True,\n",
        "    max_iterations=10,\n",
        "    early_stopping_method=\"force\",\n",
        "    return_intermediate_steps=True,\n",
        "    handle_parsing_errors=True,\n",
        "    agent_kwargs={\n",
        "        \"prefix\": (\n",
        "            \"Ты — генератор квизов. Твоя единственная работа — сгенерировать 5 вопросов с помощью quiz() \"\n",
        "            \"Тема квиза — это {input}.\"\n",
        "        ),\n",
        "        \"suffix\": (\n",
        "            \"Выполни quiz()\"\n",
        "            \"Если не удалось получить ответ от quiz() выполни fallback().\"\n",
        "            \"Если quiz() вернул ответ вызови reflect().\"\n",
        "            \"Повтори эти действия 5 раз\"\n",
        "            \"Собери все ответы quiz() в один python список без изменений\"\n",
        "          )\n",
        "    }\n",
        ")\n",
        "\n",
        "def main(topic_name):\n",
        "    # собираем метрики по токенам и стоимости\n",
        "    with get_openai_callback() as cb:\n",
        "        result = agent({\"input\": topic_name})\n",
        "    # сохраняем лог\n",
        "    log = {\n",
        "        \"timestamp\": datetime.utcnow().isoformat(),\n",
        "        \"input\": topic_name,\n",
        "        \"output\": result[\"output\"],\n",
        "        \"metrics\": {\n",
        "            \"total_tokens\": cb.total_tokens,\n",
        "            \"prompt_tokens\": cb.prompt_tokens,\n",
        "            \"completion_tokens\": cb.completion_tokens,\n",
        "            \"total_cost_usd\": cb.total_cost\n",
        "        }\n",
        "    }\n",
        "    with open(\"quiz_run_log.json\", \"a\", encoding=\"utf-8\") as f:\n",
        "        f.write(json.dumps(log, ensure_ascii=False) + \"\\n\")\n",
        "    return result"
      ],
      "metadata": {
        "id": "t_kEweXqzox5",
        "colab": {
          "base_uri": "https://localhost:8080/"
        },
        "outputId": "95fbacea-b9df-422a-e63e-7fda89803aca"
      },
      "execution_count": 23,
      "outputs": [
        {
          "output_type": "stream",
          "name": "stderr",
          "text": [
            "WARNING:langchain.agents.agent:`agent_scratchpad` should be a variable in prompt.input_variables. Did not find it, so adding it at the end.\n"
          ]
        }
      ]
    },
    {
      "cell_type": "code",
      "source": [],
      "metadata": {
        "id": "FDjwlN_VJWXe"
      },
      "execution_count": 20,
      "outputs": []
    },
    {
      "cell_type": "markdown",
      "source": [],
      "metadata": {
        "id": "wOiErqvW-1Jk"
      }
    },
    {
      "cell_type": "code",
      "source": [
        "res = main('архитектуры llm агентов')"
      ],
      "metadata": {
        "colab": {
          "base_uri": "https://localhost:8080/"
        },
        "id": "UUtnyuyZ8sGo",
        "outputId": "2e8bef64-14e3-4922-c807-f4635f3069b8"
      },
      "execution_count": 24,
      "outputs": [
        {
          "output_type": "stream",
          "name": "stdout",
          "text": [
            "\n",
            "\n",
            "\u001b[1m> Entering new AgentExecutor chain...\u001b[0m\n",
            "\u001b[32;1m\u001b[1;3mВыведи список в финальном ответе\n",
            "\n",
            "Question: Сгенерируй 5 вопросов квиза по теме архитектуры llm агентов\n",
            "Thought: I need to generate 5 quiz questions about LLM agent architectures. I'll use the quiz() function for each question and collect them in a list.\n",
            "Action: quiz\n",
            "Action Input: Архитектуры LLM агентов\u001b[0m\n",
            "Observation: \u001b[36;1m\u001b[1;3mТребования:1. Вопрос должен быть на знание терминологии и понимание архитектур LLM агентов2. Варианты ответов должны быть схожи по структуре и длине3. Один правильный ответ, три отвлекающих4. Отвлекающие ответы должны быть реалистичными и соответствовать теме квиза5. Вопрос и ответы должны быть на русском языке\n",
            "Пример:\n",
            "<q>Какой из следующих компонентов обычно отвечает за хранение и обработку памяти в архитектуре LLM-агента?</q>\n",
            "<ans1>Модуль долгосрочной памяти</ans1>\n",
            "<ans2>Интерфейс взаимодействия с пользователем</ans2>\n",
            "<ans3>Система обработки естественного языка</ans3>\n",
            "<ans4>Механизм планирования действий</ans4>\n",
            "<right_ans>1</right_ans>\n",
            "<q>Какой из следующих комп\u001b[0m\n",
            "Thought:\u001b[32;1m\u001b[1;3m I need to generate 5 quiz questions about LLM agent architectures. I'll use the quiz() function for each question and collect them in a list.\n",
            "Action: quiz\n",
            "Action Input: Архитектуры LLM агентов\u001b[0m\n",
            "Observation: \u001b[36;1m\u001b[1;3mТребования: - Вопрос должен быть сформулирован как проблема или задача, с которой может столкнуться разработчик- Вопрос и варианты ответов должны быть на русском языке- Один из вариантов ответа должен быть правильным, остальные - распространенные заблуждения или неполные ответы- Варианты ответов должны быть примерно одинаковой длины- Варианты ответов должны быть четко сформулированы и отличаться друг от друга\n",
            "Пример:\n",
            "<q>Какой из перечисленных компонентов не является обязательным для работы LLM-агента в архитектуре с рефлексией?</q>\n",
            "<ans1>Модель генерации действий<\u0007ns1>\n",
            "<ans2>Модель оценки действий<\u0007ns2>\n",
            "<ans3>Модель долгосрочной памяти<\u0007ns3>\n",
            "<ans4>Модель краткосрочной памяти<\u0007ns4>\n",
            "ight_ans\u001b[0m\n",
            "Thought:\u001b[32;1m\u001b[1;3m I need to generate 5 quiz questions about LLM agent architectures. I'll use the quiz() function for each question and collect them in a list.\n",
            "Action: quiz\n",
            "Action Input: Архитектуры LLM агентов\u001b[0m\n",
            "Observation: \u001b[36;1m\u001b[1;3m \u0007 - это символ с кодом 7 (Bell), не отображается визуально.\n",
            "Правильный ответ должен быть один.\n",
            "Вопрос должен быть на знание архитектур LLM агентов, варианты ответов должны быть похожи, чтобы запутать пользователя, но только один правильный.\n",
            "Сложность вопроса: средняя\n",
            "Тема: Внутренние компоненты LLM агентов\n",
            "Пример вопроса:\n",
            "<q>Какой из перечисленных компонентов отвечает за выбор действия в архитектуре LLM агента?</q>\n",
            "<ans1>Планировщик<\u0007ns1>\n",
            "<ans2>Память<\u0007ns2>\n",
            "<ans3>Исполнитель<\u0007ns3>\n",
            "<ans4>Модель<\u0007ns4>\n",
            "ight_ans>\n",
            "Теперь придумай свой вопрос по теме \"Внутренние компоненты LLM агентов\" средней сложности. \u0007 - это символ с кодом 7 (Bell), не отображается\u001b[0m\n",
            "Thought:\u001b[32;1m\u001b[1;3m I need to generate 5 quiz questions about LLM agent architectures. I'll use the quiz() function for each question and collect them in a list.\n",
            "Action: quiz\n",
            "Action Input: Архитектуры LLM агентов\u001b[0m\n",
            "Observation: \u001b[36;1m\u001b[1;3mТребования: - Вопрос и варианты ответов должны быть на русском языке- Вопрос должен быть корректным и соответствовать теме- Среди вариантов ответов должен быть только один правильный- Остальные варианты ответов должны быть логически правдоподобными, но неверными- Вопрос должен быть сформулирован понятно и лаконично- Варианты ответов должны быть примерно одинаковой длины- Варианты ответов должны быть пронумерованы- В правильном ответе не должно быть подсказок- Не использовать маркированные списки- Не использовать специальные символы и HTML-теги- Не добавлять комментарии и пояснения- Строго соблюдать указанный формат\n",
            "\tq>Какой из перечисленных компонентов обычно не входит в архитектуру LLM-агента?\n",
            "\n",
            "<ans1>1. Планировщик<\u0007ns1>\n",
            "<ans2>2. Память<\u0007ns2>\n",
            "\u001b[0m\n",
            "Thought:\u001b[32;1m\u001b[1;3m I need to generate 5 quiz questions about LLM agent architectures. I'll use the quiz() function for each question and collect them in a list.\n",
            "Action: quiz\n",
            "Action Input: Архитектуры LLM агентов\u001b[0m\n",
            "Observation: \u001b[36;1m\u001b[1;3mТребования к вопросу: - точность формулировок - отсутствие двусмысленности - варианты ответов должны быть примерно одинаковой длины - один правильный ответ и три логичных, но неправильных - все варианты ответов должны быть правдоподобными - вопросы и ответы на русском языке\n",
            "Пример: <q>Какой из перечисленных компонентов не является частью базовой архитектуры LLM-агента?</q>\n",
            "<ans1>Модуль планирования<\u0007ns1>\n",
            "<ans2>Система долгосрочной памяти<\u0007ns2>\n",
            "<ans3>Интерфейс взаимодействия с пользователем<\u0007ns3>\n",
            "<ans4>Генератор случайных чисел<\u0007ns4>\n",
            "ight_ans>Теперь придумай свой вопрос и варианты ответов по теме архитектуры LLM агентов.\n",
            "Хорошо, мне нужно составить вопрос квиза по\u001b[0m\n",
            "Thought:\u001b[32;1m\u001b[1;3m I need to generate 5 quiz questions about LLM agent architectures. I'll use the quiz() function for each question and collect them in a list.\n",
            "Action: quiz\n",
            "Action Input: Архитектуры LLM агентов\u001b[0m\n",
            "Observation: \u001b[36;1m\u001b[1;3mТребования: - Вопрос и варианты ответов должны быть на русском языке- Вопрос должен быть понятен специалистам в области машинного обучения и искусственного интеллекта- Варианты ответов должны быть похожи друг на друга по структуре и длине- Один вариант ответа должен быть правильным, остальные - близкие по смыслу, но неправильные- Вопрос должен проверять знание специфических деталей темы, а не общие знания- Вопрос должен быть оригинальным, а не копировать известные вопросы из интернета\n",
            "Пример:\n",
            "<q>Какой из перечисленных компонентов не входит в базовую архитектуру трансформера? <\\q>\n",
            "<ans1>Энкодер<\u0007ns1>\n",
            "<ans2>Декодер<\u0007ns2>\n",
            "<ans3>Позиционные кодировки<\u0007ns3>\n",
            "<ans4>Слой LSTM<\u0007ns4>\n",
            "ight_ans\u001b[0m\n",
            "Thought:\u001b[32;1m\u001b[1;3m I need to generate 5 quiz questions about LLM agent architectures. I'll use the quiz() function for each question and collect them in a list.\n",
            "Action: quiz\n",
            "Action Input: Архитектуры LLM агентов\u001b[0m\n",
            "Observation: \u001b[36;1m\u001b[1;3mТребования: - Вопрос и варианты ответов должны быть на русском языке- Вопрос должен быть понятным и соответствовать теме- Среди вариантов ответов должен быть только один правильный- Неправильные варианты должны быть близки к правильному и правдоподобны- Вопрос и варианты ответов должны быть краткими, без лишних деталей и сложных конструкций- Нельзя использовать маркированные списки в тексте вопроса- Нельзя использовать специальные символы и формулы- Нельзя использовать опечатки и грамматические ошибки- Нельзя использовать аббревиатуры без расшифровки- Нельзя использовать сложные термины без пояснения- Нельзя использовать примеры или пояснения в вариантах ответов- Нельзя использовать повторяющиеся формулировки в вариантах ответов- Нельзя использовать варианты ответов, которые могут быть интерпретированы по-разному-\u001b[0m\n",
            "Thought:\u001b[32;1m\u001b[1;3m I need to generate 5 quiz questions about LLM agent architectures. I'll use the quiz() function for each question and collect them in a list.\n",
            "Action: quiz\n",
            "Action Input: Архитектуры LLM агентов\u001b[0m\n",
            "Observation: \u001b[36;1m\u001b[1;3mТребования к вопросу: - должен проверять знание ключевых аспектов темы- не должен быть слишком простым- не должен быть слишком сложным- должен быть понятным- варианты ответов должны быть четкими и не двусмысленными- один вариант ответа правильный, три - неправильные- неправильные варианты должны быть реалистичными и правдоподобными- неправильные варианты должны быть сформулированы так, чтобы не отдавать признаков того, что они неверны\n",
            "Соблюдай требования и формат. Не добавляй ничего лишнего. Пиши на русском языке.\n",
            "\n",
            "<q>Какой из перечисленных компонентов обычно не входит в базовую архитектуру LLM-агента?</q>\n",
            "<ans1>Модуль планирования</ans1>\n",
            "<ans2>Система долгосрочной памяти</ans2>\n",
            "<ans3>Интерфейс взаимодействия с пользователем</ans3>\n",
            "<\u001b[0m\n",
            "Thought:\u001b[32;1m\u001b[1;3m I need to generate 5 quiz questions about LLM agent architectures. I'll use the quiz() function for each question and collect them in a list.\n",
            "Action: quiz\n",
            "Action Input: Архитектуры LLM агентов\u001b[0m\n",
            "Observation: \u001b[36;1m\u001b[1;3m \u0007 - это спецсимвол, заменить на &lt;br&gt; при выводе\n",
            "\n",
            "Пожалуйста, используй русский язык для вопросов и ответов. Сложность вопроса - средняя. \u0007 - это спецсимвол, заменить на &lt;br&gt; при выводе\n",
            "\n",
            "Пожалуйста, используй русский язык для вопросов и ответов. Сложность вопроса - средняя.\n",
            "\n",
            "Хорошо, давайте приступим к разработке квиза на тему архитектур LLM-агентов. Сначала мне нужно определить, какие аспекты этой темы наиболее важны и подходят для вопроса средней сложности. Архитектуры LLM-агентов включают в себя различные компоненты и подходы, такие как модульность, взаимодействие с окружением, планирование, память и т.д.\n",
            "\n",
            "Для среднего уровня сложности подойдет вопрос, который проверяет знание основных компонентов архитектуры, но не слишком угл\u001b[0m\n",
            "Thought:\u001b[32;1m\u001b[1;3m I need to generate 5 quiz questions about LLM agent architectures. I'll use the quiz() function for each question and collect them in a list.\n",
            "Action: quiz\n",
            "Action Input: Архитектуры LLM агентов\u001b[0m\n",
            "Observation: \u001b[36;1m\u001b[1;3mТребования: - Вопрос должен быть на знание деталей архитектур LLM агентов- Один правильный ответ, три неправильных- Неправильные ответы должны быть правдоподобными- Вопрос и варианты ответа должны быть на русском языке- Вопрос должен быть понятен без контекста- Варианты ответа должны быть примерно одинаковой длины- В вопросе не должно быть предлога \"не\"- Варианты ответов не должны содержать союзов \"или\", \"а\", \"но\" и т.д.\n",
            "\n",
            "Ты эксперт в составлении квизов\n",
            "Тема: Архитектуры LLM агентов\n",
            "Составь вопрос квиза на заданную тему с 4 вариантами ответа.\n",
            "Формат ответа:\n",
            "<q>str<\\q>\n",
            "<ans1>str<\u0007ns1>\n",
            "<ans2>str<\u0007ns2>\n",
            "<ans3>str<\u0007ns3>\n",
            "<ans4>str<\u0007ns4>\n",
            "<right_ans>int\u001b[0m\n",
            "Thought:\u001b[32;1m\u001b[1;3m\u001b[0m\n",
            "\n",
            "\u001b[1m> Finished chain.\u001b[0m\n"
          ]
        },
        {
          "output_type": "stream",
          "name": "stderr",
          "text": [
            "/usr/local/lib/python3.11/dist-packages/langchain/memory/chat_memory.py:55: UserWarning: 'ConversationBufferMemory' got multiple output keys: dict_keys(['output', 'intermediate_steps']). The default 'output' key is being used. If this is not desired, please manually set 'output_key'.\n",
            "  warnings.warn(\n"
          ]
        }
      ]
    },
    {
      "cell_type": "code",
      "source": [
        "res"
      ],
      "metadata": {
        "colab": {
          "base_uri": "https://localhost:8080/"
        },
        "id": "QTl9rdBO5y0_",
        "outputId": "8291d8aa-908e-43eb-bf3e-a84f2ed0598a"
      },
      "execution_count": null,
      "outputs": [
        {
          "output_type": "execute_result",
          "data": {
            "text/plain": [
              "{'input': 'архитектуры llm агентов',\n",
              " 'history': '',\n",
              " 'output': 'Agent stopped due to iteration limit or time limit.',\n",
              " 'intermediate_steps': [(AgentAction(tool='quiz', tool_input='topic = \"архитектуры llm агентов', log='Question: выполнить 5 вызовов функции quiz() и записать результаты в список\\nThought: нужно выполнить 5 вызовов функции quiz() с темой архитектуры llm агентов и собрать результаты\\nAction: quiz\\nAction Input: topic = \"архитектуры llm агентов\"'),\n",
              "   ' \\n<q>Какой из следующих вариантов является ключевым преимуществом архитектуры Large Language Model (LLM) агентов?<\\\\q>\\n<ans1>Повышенная сложность модели<\\\\ans1>\\n<ans2>Улучшение точности прогнозирования<\\\\ans2>\\n<ans3>Повышенная способность к обобщению и адаптации<\\\\ans3>\\n<ans4>Снижение потребления вычислительных ресурсов<\\\\ans4>\\n<right_ans>3<\\\\right_ans>'),\n",
              "  (AgentAction(tool='append', tool_input='[\"Какой из следующих вариантов является ключевым преимуществом архитектуры Large Language Model (LLM) агентов?<br><ans1>Повышенная сложность модели<\\\\ans1><br><ans2>Улучшение точности прогнозирования<\\\\ans2><br><ans3>Повышенная способность к обобщению и адаптации<\\\\ans3><br><ans4>Снижение потребления вычислительных ресурсов<\\\\ans4><br><right_ans>3<\\\\right_ans>\"]', log=' запишем результат в список\\nAction: append\\nAction Input: [\"Какой из следующих вариантов является ключевым преимуществом архитектуры Large Language Model (LLM) агентов?<br><ans1>Повышенная сложность модели<\\\\ans1><br><ans2>Улучшение точности прогнозирования<\\\\ans2><br><ans3>Повышенная способность к обобщению и адаптации<\\\\ans3><br><ans4>Снижение потребления вычислительных ресурсов<\\\\ans4><br><right_ans>3<\\\\right_ans>\"]'),\n",
              "   'append is not a valid tool, try one of [quiz].'),\n",
              "  (AgentAction(tool='quiz', tool_input='topic = \"архитектуры llm агентов', log=' нужно выполнить 4 оставшихся вызова функции quiz() \\nAction: quiz\\nAction Input: topic = \"архитектуры llm агентов\"'),\n",
              "   ' \\n\\n<q>Какой из следующих вариантов является ключевым преимуществом использования архитектур LLM (Больших Языковых Моделей) в агентах?<\\\\q>\\n<ans1>Снижение требований к объему памяти<\\\\ans1>\\n<ans2>Улучшение способностей к обучению на больших объемах текстовых данных<\\\\ans2>\\n<ans3>Упрощение процесса разработки и интеграции<\\\\ans3>\\n<ans4>Повышение скорости обработки числовых данных<\\\\ans4>\\n<right_ans>2<\\\\right_ans>'),\n",
              "  (AgentAction(tool='append', tool_input='[\"Какой из следующих вариантов является ключевым преимуществом архитектуры Large Language Model (LLM) агентов?<br><ans1>Повышенная сложность модели<\\\\ans1><br><ans2>Улучшение точности прогнозирования<\\\\ans2><br><ans3>Повышенная способность к обобщению и адаптации<\\\\ans3><br><ans4>Снижение потребления вычислительных ресурсов<\\\\ans4><br><right_ans>3<\\\\right_ans>\", \"Какой из следующих вариантов является ключевым преимуществом использования архитектур LLM (Больших Языковых Моделей) в агентах?<br><ans1>Снижение требований к объему памяти<\\\\ans1><br><ans2>Улучшение способностей к обучению на больших объемах текстовых данных<\\\\ans2><br><ans3>Упрощение процесса разработки и интеграции<\\\\ans3><br><ans4>Повышение скор', log=' запишем результат в список\\nAction: append \\nAction Input: [\"Какой из следующих вариантов является ключевым преимуществом архитектуры Large Language Model (LLM) агентов?<br><ans1>Повышенная сложность модели<\\\\ans1><br><ans2>Улучшение точности прогнозирования<\\\\ans2><br><ans3>Повышенная способность к обобщению и адаптации<\\\\ans3><br><ans4>Снижение потребления вычислительных ресурсов<\\\\ans4><br><right_ans>3<\\\\right_ans>\", \"Какой из следующих вариантов является ключевым преимуществом использования архитектур LLM (Больших Языковых Моделей) в агентах?<br><ans1>Снижение требований к объему памяти<\\\\ans1><br><ans2>Улучшение способностей к обучению на больших объемах текстовых данных<\\\\ans2><br><ans3>Упрощение процесса разработки и интеграции<\\\\ans3><br><ans4>Повышение скор'),\n",
              "   'append is not a valid tool, try one of [quiz].'),\n",
              "  (AgentAction(tool='quiz', tool_input='topic = \"архитектуры llm агентов', log=' нужно выполнить 3 оставшихся вызова функции quiz() \\nAction: quiz\\nAction Input: topic = \"архитектуры llm агентов\"'),\n",
              "   ' \\nq>Какой архитектурный подход используется при разработке LLM агентов для обеспечения обработки и анализа больших объемов данных?<\\\\q>\\n<ans1>pipeline<\\\\ans1>\\n<ans2>modular<\\\\ans2>\\n<ans3>distributed<\\\\ans3>\\n<ans4>hierarchical<\\\\ans4>\\n<right_ans>3<\\\\right_ans> \\nДобро пожаловать на квиз по архитектурам LLM агентов! \\nВопрос 1: Какой архитектурный подход используется при разработке LLM агентов для обеспечения обработки и анализа больших объемов данных?\\nА) Pipeline\\nБ) Modular\\nВ) Distributed\\nГ) Hierarchical\\nОтвет: В) Distributed\\nОбъяснение: Архитектурный подход Distributed позволяет LLM агентам обрабатывать и анализировать большие объемы данных, распределяя задачи между несколькими узлами или процессорами, что обеспечивает масштабируемость и высокую производительность. Этот подход особенно эффективен при работе с большими данными и сложными задачами машинного'),\n",
              "  (AgentAction(tool='append', tool_input='[\"Какой из следующих вариантов является ключевым преимуществом архитектуры Large Language Model (LLM) агентов?<br><ans1>Повышенная сложность модели<\\\\ans1><br><ans2>Улучшение точности прогнозирования<\\\\ans2><br><ans3>Повышенная способность к обобщению и адаптации<\\\\ans3><br><ans4>Снижение потребления вычислительных ресурсов<\\\\ans4><br><right_ans>3<\\\\right_ans>\", \"Какой из следующих вариантов является ключевым преимуществом использования архитектур LLM (Больших Языковых Моделей) в агентах?<br><ans1>Снижение требований к объему памяти<\\\\ans1><br><ans2>Улучшение способностей к обучению на больших объемах текстовых данных<\\\\ans2><br><ans3>Упрощение процесса разработки и интеграции<\\\\ans3><br><ans4>Повышение скор', log=' запишем результат в список \\nAction: append \\nAction Input: [\"Какой из следующих вариантов является ключевым преимуществом архитектуры Large Language Model (LLM) агентов?<br><ans1>Повышенная сложность модели<\\\\ans1><br><ans2>Улучшение точности прогнозирования<\\\\ans2><br><ans3>Повышенная способность к обобщению и адаптации<\\\\ans3><br><ans4>Снижение потребления вычислительных ресурсов<\\\\ans4><br><right_ans>3<\\\\right_ans>\", \"Какой из следующих вариантов является ключевым преимуществом использования архитектур LLM (Больших Языковых Моделей) в агентах?<br><ans1>Снижение требований к объему памяти<\\\\ans1><br><ans2>Улучшение способностей к обучению на больших объемах текстовых данных<\\\\ans2><br><ans3>Упрощение процесса разработки и интеграции<\\\\ans3><br><ans4>Повышение скор'),\n",
              "   'append is not a valid tool, try one of [quiz].'),\n",
              "  (AgentAction(tool='quiz', tool_input='topic = \"архитектуры llm агентов', log=' нужно выполнить 2 оставшихся вызова функции quiz() \\nAction: quiz\\nAction Input: topic = \"архитектуры llm агентов\"'),\n",
              "   ' \\n<q>Какая основная цель архитектуры LLM (Large Language Model) агентов?</q>\\n<ans1>Создание автономных транспортных средств</ans1>\\n<ans2>Разработка интеллектуальных систем обработки языка</ans2>\\n<ans3>Применение в медицинских исследованиях</ans3>\\n<ans4>Управление роботами</ans4>\\n<right_ans>2</right_ans>'),\n",
              "  (AgentAction(tool='append', tool_input='[\"Какой из следующих вариантов является ключевым преимуществом архитектуры Large Language Model (LLM) агентов?<br><ans1>Повышенная сложность модели<\\\\ans1><br><ans2>Улучшение точности прогнозирования<\\\\ans2><br><ans3>Повышенная способность к обобщению и адаптации<\\\\ans3><br><ans4>Снижение потребления вычислительных ресурсов<\\\\ans4><br><right_ans>3<\\\\right_ans>\", \"Какой из следующих вариантов является ключевым преимуществом использования архитектур LLM (Больших Языковых Моделей) в агентах?<br><ans1>Снижение требований к объему памяти<\\\\ans1><br><ans2>Улучшение способностей к обучению на больших объемах текстовых данных<\\\\ans2><br><ans3>Упрощение процесса разработки и интеграции<\\\\ans3><br><ans4>Повышение скор', log=' запишем результат в список \\nAction: append \\nAction Input: [\"Какой из следующих вариантов является ключевым преимуществом архитектуры Large Language Model (LLM) агентов?<br><ans1>Повышенная сложность модели<\\\\ans1><br><ans2>Улучшение точности прогнозирования<\\\\ans2><br><ans3>Повышенная способность к обобщению и адаптации<\\\\ans3><br><ans4>Снижение потребления вычислительных ресурсов<\\\\ans4><br><right_ans>3<\\\\right_ans>\", \"Какой из следующих вариантов является ключевым преимуществом использования архитектур LLM (Больших Языковых Моделей) в агентах?<br><ans1>Снижение требований к объему памяти<\\\\ans1><br><ans2>Улучшение способностей к обучению на больших объемах текстовых данных<\\\\ans2><br><ans3>Упрощение процесса разработки и интеграции<\\\\ans3><br><ans4>Повышение скор'),\n",
              "   'append is not a valid tool, try one of [quiz].'),\n",
              "  (AgentAction(tool='quiz', tool_input='topic = \"архитектуры llm агентов', log=' нужно выполнить 1 оставшийся вызов функции quiz() \\nAction: quiz\\nAction Input: topic = \"архитектуры llm агентов\"'),\n",
              "   ' \\n\\n<q>Какой основной подход используется для интеграции моделей LLM (Large Language Model) в архитектуру агентов для повышения их интеллектуальных способностей?</q>\\n<ans1>Гибридный подход</ans1>\\n<ans2>Модульный подход</ans2>\\n<ans3>Интегральный подход</ans3>\\n<ans4>Децентрализованный подход</ans4>\\n<right_ans>2</right_ans>'),\n",
              "  (AgentAction(tool='', tool_input='', log=' запишем результат в список \\nAction: \\nAction Input: '),\n",
              "   ' is not a valid tool, try one of [quiz].')]}"
            ]
          },
          "metadata": {},
          "execution_count": 9
        }
      ]
    },
    {
      "cell_type": "code",
      "source": [],
      "metadata": {
        "id": "V-SJaPYBJ1CO"
      },
      "execution_count": null,
      "outputs": []
    },
    {
      "cell_type": "code",
      "source": [
        "!pip install openai-agents"
      ],
      "metadata": {
        "colab": {
          "base_uri": "https://localhost:8080/"
        },
        "id": "epzv-eXg5s7U",
        "outputId": "bded9843-f5e5-45fe-e3d3-7c32c981109a"
      },
      "execution_count": 1,
      "outputs": [
        {
          "output_type": "stream",
          "name": "stdout",
          "text": [
            "Collecting openai-agents\n",
            "  Downloading openai_agents-0.1.0-py3-none-any.whl.metadata (8.6 kB)\n",
            "Collecting griffe<2,>=1.5.6 (from openai-agents)\n",
            "  Downloading griffe-1.7.3-py3-none-any.whl.metadata (5.0 kB)\n",
            "Collecting mcp<2,>=1.9.4 (from openai-agents)\n",
            "  Downloading mcp-1.10.1-py3-none-any.whl.metadata (40 kB)\n",
            "\u001b[2K     \u001b[90m━━━━━━━━━━━━━━━━━━━━━━━━━━━━━━━━━━━━━━━━\u001b[0m \u001b[32m40.1/40.1 kB\u001b[0m \u001b[31m1.6 MB/s\u001b[0m eta \u001b[36m0:00:00\u001b[0m\n",
            "\u001b[?25hRequirement already satisfied: openai>=1.87.0 in /usr/local/lib/python3.11/dist-packages (from openai-agents) (1.93.0)\n",
            "Requirement already satisfied: pydantic<3,>=2.10 in /usr/local/lib/python3.11/dist-packages (from openai-agents) (2.11.7)\n",
            "Requirement already satisfied: requests<3,>=2.0 in /usr/local/lib/python3.11/dist-packages (from openai-agents) (2.32.3)\n",
            "Collecting types-requests<3,>=2.0 (from openai-agents)\n",
            "  Downloading types_requests-2.32.4.20250611-py3-none-any.whl.metadata (2.1 kB)\n",
            "Requirement already satisfied: typing-extensions<5,>=4.12.2 in /usr/local/lib/python3.11/dist-packages (from openai-agents) (4.14.0)\n",
            "Collecting colorama>=0.4 (from griffe<2,>=1.5.6->openai-agents)\n",
            "  Downloading colorama-0.4.6-py2.py3-none-any.whl.metadata (17 kB)\n",
            "Requirement already satisfied: anyio>=4.5 in /usr/local/lib/python3.11/dist-packages (from mcp<2,>=1.9.4->openai-agents) (4.9.0)\n",
            "Collecting httpx-sse>=0.4 (from mcp<2,>=1.9.4->openai-agents)\n",
            "  Downloading httpx_sse-0.4.1-py3-none-any.whl.metadata (9.4 kB)\n",
            "Requirement already satisfied: httpx>=0.27 in /usr/local/lib/python3.11/dist-packages (from mcp<2,>=1.9.4->openai-agents) (0.28.1)\n",
            "Requirement already satisfied: jsonschema>=4.20.0 in /usr/local/lib/python3.11/dist-packages (from mcp<2,>=1.9.4->openai-agents) (4.24.0)\n",
            "Collecting pydantic-settings>=2.5.2 (from mcp<2,>=1.9.4->openai-agents)\n",
            "  Downloading pydantic_settings-2.10.1-py3-none-any.whl.metadata (3.4 kB)\n",
            "Requirement already satisfied: python-multipart>=0.0.9 in /usr/local/lib/python3.11/dist-packages (from mcp<2,>=1.9.4->openai-agents) (0.0.20)\n",
            "Collecting sse-starlette>=1.6.1 (from mcp<2,>=1.9.4->openai-agents)\n",
            "  Downloading sse_starlette-2.4.1-py3-none-any.whl.metadata (10 kB)\n",
            "Requirement already satisfied: starlette>=0.27 in /usr/local/lib/python3.11/dist-packages (from mcp<2,>=1.9.4->openai-agents) (0.46.2)\n",
            "Requirement already satisfied: uvicorn>=0.23.1 in /usr/local/lib/python3.11/dist-packages (from mcp<2,>=1.9.4->openai-agents) (0.35.0)\n",
            "Requirement already satisfied: distro<2,>=1.7.0 in /usr/local/lib/python3.11/dist-packages (from openai>=1.87.0->openai-agents) (1.9.0)\n",
            "Requirement already satisfied: jiter<1,>=0.4.0 in /usr/local/lib/python3.11/dist-packages (from openai>=1.87.0->openai-agents) (0.10.0)\n",
            "Requirement already satisfied: sniffio in /usr/local/lib/python3.11/dist-packages (from openai>=1.87.0->openai-agents) (1.3.1)\n",
            "Requirement already satisfied: tqdm>4 in /usr/local/lib/python3.11/dist-packages (from openai>=1.87.0->openai-agents) (4.67.1)\n",
            "Requirement already satisfied: annotated-types>=0.6.0 in /usr/local/lib/python3.11/dist-packages (from pydantic<3,>=2.10->openai-agents) (0.7.0)\n",
            "Requirement already satisfied: pydantic-core==2.33.2 in /usr/local/lib/python3.11/dist-packages (from pydantic<3,>=2.10->openai-agents) (2.33.2)\n",
            "Requirement already satisfied: typing-inspection>=0.4.0 in /usr/local/lib/python3.11/dist-packages (from pydantic<3,>=2.10->openai-agents) (0.4.1)\n",
            "Requirement already satisfied: charset-normalizer<4,>=2 in /usr/local/lib/python3.11/dist-packages (from requests<3,>=2.0->openai-agents) (3.4.2)\n",
            "Requirement already satisfied: idna<4,>=2.5 in /usr/local/lib/python3.11/dist-packages (from requests<3,>=2.0->openai-agents) (3.10)\n",
            "Requirement already satisfied: urllib3<3,>=1.21.1 in /usr/local/lib/python3.11/dist-packages (from requests<3,>=2.0->openai-agents) (2.4.0)\n",
            "Requirement already satisfied: certifi>=2017.4.17 in /usr/local/lib/python3.11/dist-packages (from requests<3,>=2.0->openai-agents) (2025.6.15)\n",
            "Requirement already satisfied: httpcore==1.* in /usr/local/lib/python3.11/dist-packages (from httpx>=0.27->mcp<2,>=1.9.4->openai-agents) (1.0.9)\n",
            "Requirement already satisfied: h11>=0.16 in /usr/local/lib/python3.11/dist-packages (from httpcore==1.*->httpx>=0.27->mcp<2,>=1.9.4->openai-agents) (0.16.0)\n",
            "Requirement already satisfied: attrs>=22.2.0 in /usr/local/lib/python3.11/dist-packages (from jsonschema>=4.20.0->mcp<2,>=1.9.4->openai-agents) (25.3.0)\n",
            "Requirement already satisfied: jsonschema-specifications>=2023.03.6 in /usr/local/lib/python3.11/dist-packages (from jsonschema>=4.20.0->mcp<2,>=1.9.4->openai-agents) (2025.4.1)\n",
            "Requirement already satisfied: referencing>=0.28.4 in /usr/local/lib/python3.11/dist-packages (from jsonschema>=4.20.0->mcp<2,>=1.9.4->openai-agents) (0.36.2)\n",
            "Requirement already satisfied: rpds-py>=0.7.1 in /usr/local/lib/python3.11/dist-packages (from jsonschema>=4.20.0->mcp<2,>=1.9.4->openai-agents) (0.26.0)\n",
            "Collecting python-dotenv>=0.21.0 (from pydantic-settings>=2.5.2->mcp<2,>=1.9.4->openai-agents)\n",
            "  Downloading python_dotenv-1.1.1-py3-none-any.whl.metadata (24 kB)\n",
            "Requirement already satisfied: click>=7.0 in /usr/local/lib/python3.11/dist-packages (from uvicorn>=0.23.1->mcp<2,>=1.9.4->openai-agents) (8.2.1)\n",
            "Downloading openai_agents-0.1.0-py3-none-any.whl (130 kB)\n",
            "\u001b[2K   \u001b[90m━━━━━━━━━━━━━━━━━━━━━━━━━━━━━━━━━━━━━━━━\u001b[0m \u001b[32m130.6/130.6 kB\u001b[0m \u001b[31m5.7 MB/s\u001b[0m eta \u001b[36m0:00:00\u001b[0m\n",
            "\u001b[?25hDownloading griffe-1.7.3-py3-none-any.whl (129 kB)\n",
            "\u001b[2K   \u001b[90m━━━━━━━━━━━━━━━━━━━━━━━━━━━━━━━━━━━━━━━━\u001b[0m \u001b[32m129.3/129.3 kB\u001b[0m \u001b[31m10.7 MB/s\u001b[0m eta \u001b[36m0:00:00\u001b[0m\n",
            "\u001b[?25hDownloading mcp-1.10.1-py3-none-any.whl (150 kB)\n",
            "\u001b[2K   \u001b[90m━━━━━━━━━━━━━━━━━━━━━━━━━━━━━━━━━━━━━━━━\u001b[0m \u001b[32m150.9/150.9 kB\u001b[0m \u001b[31m12.1 MB/s\u001b[0m eta \u001b[36m0:00:00\u001b[0m\n",
            "\u001b[?25hDownloading types_requests-2.32.4.20250611-py3-none-any.whl (20 kB)\n",
            "Downloading colorama-0.4.6-py2.py3-none-any.whl (25 kB)\n",
            "Downloading httpx_sse-0.4.1-py3-none-any.whl (8.1 kB)\n",
            "Downloading pydantic_settings-2.10.1-py3-none-any.whl (45 kB)\n",
            "\u001b[2K   \u001b[90m━━━━━━━━━━━━━━━━━━━━━━━━━━━━━━━━━━━━━━━━\u001b[0m \u001b[32m45.2/45.2 kB\u001b[0m \u001b[31m3.5 MB/s\u001b[0m eta \u001b[36m0:00:00\u001b[0m\n",
            "\u001b[?25hDownloading sse_starlette-2.4.1-py3-none-any.whl (10 kB)\n",
            "Downloading python_dotenv-1.1.1-py3-none-any.whl (20 kB)\n",
            "Installing collected packages: types-requests, python-dotenv, httpx-sse, colorama, sse-starlette, griffe, pydantic-settings, mcp, openai-agents\n",
            "Successfully installed colorama-0.4.6 griffe-1.7.3 httpx-sse-0.4.1 mcp-1.10.1 openai-agents-0.1.0 pydantic-settings-2.10.1 python-dotenv-1.1.1 sse-starlette-2.4.1 types-requests-2.32.4.20250611\n"
          ]
        }
      ]
    },
    {
      "cell_type": "code",
      "source": [
        "import asyncio\n",
        "from agents.mcp import MCPServerSse\n",
        "from agents.mcp.server import RunContextWrapper     # Обёртка контекста для run_context\n",
        "from agents.agent import Agent                      # Класс Agent из SDK\n",
        "\n",
        "async def main():\n",
        "    # 1. Подключение к публичному демо-серверу MCP\n",
        "    async with MCPServerSse(\n",
        "        params={\"url\": \"https://public-mcp-demo-oai.agent-ready.ai/mcp\"},\n",
        "        name=\"public-demo\",\n",
        "        cache_tools_list=True  # опционально: кэшировать результат list_tools()\n",
        "    ) as server:\n",
        "\n",
        "        # 2. Создаём необходимые объекты для list_tools()\n",
        "        run_context = RunContextWrapper(context=None)\n",
        "        agent = Agent(\n",
        "            name=\"demo-agent\",\n",
        "            instructions=\"You are a test agent for listing MCP tools.\",\n",
        "            tools=[]            # дополнительные встроенные инструменты Agent SDK\n",
        "        )\n",
        "\n",
        "        # 3. Запрашиваем список доступных инструментов\n",
        "        tools = await server.list_tools(run_context, agent)\n",
        "\n",
        "        # 4. Выводим результат\n",
        "        print(\"Доступные инструменты MCP-сервера:\")\n",
        "        for t in tools:\n",
        "            print(f\"- {t.name}: {t.description}\")\n",
        "\n",
        "# 5. Запуск\n",
        "asyncio.run(main())"
      ],
      "metadata": {
        "id": "g0GnUp0l5s4c"
      },
      "execution_count": null,
      "outputs": []
    },
    {
      "cell_type": "code",
      "source": [],
      "metadata": {
        "id": "tZW3fH3k50E3"
      },
      "execution_count": null,
      "outputs": []
    }
  ]
}