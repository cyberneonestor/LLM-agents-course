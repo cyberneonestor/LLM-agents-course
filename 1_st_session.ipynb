{
  "nbformat": 4,
  "nbformat_minor": 0,
  "metadata": {
    "colab": {
      "provenance": []
    },
    "kernelspec": {
      "name": "python3",
      "display_name": "Python 3"
    },
    "language_info": {
      "name": "python"
    }
  },
  "cells": [
    {
      "cell_type": "code",
      "source": [
        "!pip install langchain_community langchain-openai"
      ],
      "metadata": {
        "colab": {
          "base_uri": "https://localhost:8080/"
        },
        "collapsed": true,
        "id": "GKlC3m87zw45",
        "outputId": "4915f61b-faf5-4c6f-d77f-d82a42607026"
      },
      "execution_count": 10,
      "outputs": [
        {
          "output_type": "stream",
          "name": "stdout",
          "text": [
            "Requirement already satisfied: langchain_community in /usr/local/lib/python3.11/dist-packages (0.3.27)\n",
            "Collecting langchain-openai\n",
            "  Downloading langchain_openai-0.3.27-py3-none-any.whl.metadata (2.3 kB)\n",
            "Requirement already satisfied: langchain-core<1.0.0,>=0.3.66 in /usr/local/lib/python3.11/dist-packages (from langchain_community) (0.3.67)\n",
            "Requirement already satisfied: langchain<1.0.0,>=0.3.26 in /usr/local/lib/python3.11/dist-packages (from langchain_community) (0.3.26)\n",
            "Requirement already satisfied: SQLAlchemy<3,>=1.4 in /usr/local/lib/python3.11/dist-packages (from langchain_community) (2.0.41)\n",
            "Requirement already satisfied: requests<3,>=2 in /usr/local/lib/python3.11/dist-packages (from langchain_community) (2.32.3)\n",
            "Requirement already satisfied: PyYAML>=5.3 in /usr/local/lib/python3.11/dist-packages (from langchain_community) (6.0.2)\n",
            "Requirement already satisfied: aiohttp<4.0.0,>=3.8.3 in /usr/local/lib/python3.11/dist-packages (from langchain_community) (3.11.15)\n",
            "Requirement already satisfied: tenacity!=8.4.0,<10,>=8.1.0 in /usr/local/lib/python3.11/dist-packages (from langchain_community) (8.5.0)\n",
            "Requirement already satisfied: dataclasses-json<0.7,>=0.5.7 in /usr/local/lib/python3.11/dist-packages (from langchain_community) (0.6.7)\n",
            "Requirement already satisfied: pydantic-settings<3.0.0,>=2.4.0 in /usr/local/lib/python3.11/dist-packages (from langchain_community) (2.10.1)\n",
            "Requirement already satisfied: langsmith>=0.1.125 in /usr/local/lib/python3.11/dist-packages (from langchain_community) (0.4.4)\n",
            "Requirement already satisfied: httpx-sse<1.0.0,>=0.4.0 in /usr/local/lib/python3.11/dist-packages (from langchain_community) (0.4.1)\n",
            "Requirement already satisfied: numpy>=1.26.2 in /usr/local/lib/python3.11/dist-packages (from langchain_community) (2.0.2)\n",
            "Requirement already satisfied: openai<2.0.0,>=1.86.0 in /usr/local/lib/python3.11/dist-packages (from langchain-openai) (1.93.0)\n",
            "Requirement already satisfied: tiktoken<1,>=0.7 in /usr/local/lib/python3.11/dist-packages (from langchain-openai) (0.9.0)\n",
            "Requirement already satisfied: aiohappyeyeballs>=2.3.0 in /usr/local/lib/python3.11/dist-packages (from aiohttp<4.0.0,>=3.8.3->langchain_community) (2.6.1)\n",
            "Requirement already satisfied: aiosignal>=1.1.2 in /usr/local/lib/python3.11/dist-packages (from aiohttp<4.0.0,>=3.8.3->langchain_community) (1.3.2)\n",
            "Requirement already satisfied: attrs>=17.3.0 in /usr/local/lib/python3.11/dist-packages (from aiohttp<4.0.0,>=3.8.3->langchain_community) (25.3.0)\n",
            "Requirement already satisfied: frozenlist>=1.1.1 in /usr/local/lib/python3.11/dist-packages (from aiohttp<4.0.0,>=3.8.3->langchain_community) (1.7.0)\n",
            "Requirement already satisfied: multidict<7.0,>=4.5 in /usr/local/lib/python3.11/dist-packages (from aiohttp<4.0.0,>=3.8.3->langchain_community) (6.6.3)\n",
            "Requirement already satisfied: propcache>=0.2.0 in /usr/local/lib/python3.11/dist-packages (from aiohttp<4.0.0,>=3.8.3->langchain_community) (0.3.2)\n",
            "Requirement already satisfied: yarl<2.0,>=1.17.0 in /usr/local/lib/python3.11/dist-packages (from aiohttp<4.0.0,>=3.8.3->langchain_community) (1.20.1)\n",
            "Requirement already satisfied: marshmallow<4.0.0,>=3.18.0 in /usr/local/lib/python3.11/dist-packages (from dataclasses-json<0.7,>=0.5.7->langchain_community) (3.26.1)\n",
            "Requirement already satisfied: typing-inspect<1,>=0.4.0 in /usr/local/lib/python3.11/dist-packages (from dataclasses-json<0.7,>=0.5.7->langchain_community) (0.9.0)\n",
            "Requirement already satisfied: langchain-text-splitters<1.0.0,>=0.3.8 in /usr/local/lib/python3.11/dist-packages (from langchain<1.0.0,>=0.3.26->langchain_community) (0.3.8)\n",
            "Requirement already satisfied: pydantic<3.0.0,>=2.7.4 in /usr/local/lib/python3.11/dist-packages (from langchain<1.0.0,>=0.3.26->langchain_community) (2.11.7)\n",
            "Requirement already satisfied: jsonpatch<2.0,>=1.33 in /usr/local/lib/python3.11/dist-packages (from langchain-core<1.0.0,>=0.3.66->langchain_community) (1.33)\n",
            "Requirement already satisfied: packaging<25,>=23.2 in /usr/local/lib/python3.11/dist-packages (from langchain-core<1.0.0,>=0.3.66->langchain_community) (24.2)\n",
            "Requirement already satisfied: typing-extensions>=4.7 in /usr/local/lib/python3.11/dist-packages (from langchain-core<1.0.0,>=0.3.66->langchain_community) (4.14.0)\n",
            "Requirement already satisfied: httpx<1,>=0.23.0 in /usr/local/lib/python3.11/dist-packages (from langsmith>=0.1.125->langchain_community) (0.28.1)\n",
            "Requirement already satisfied: orjson<4.0.0,>=3.9.14 in /usr/local/lib/python3.11/dist-packages (from langsmith>=0.1.125->langchain_community) (3.10.18)\n",
            "Requirement already satisfied: requests-toolbelt<2.0.0,>=1.0.0 in /usr/local/lib/python3.11/dist-packages (from langsmith>=0.1.125->langchain_community) (1.0.0)\n",
            "Requirement already satisfied: zstandard<0.24.0,>=0.23.0 in /usr/local/lib/python3.11/dist-packages (from langsmith>=0.1.125->langchain_community) (0.23.0)\n",
            "Requirement already satisfied: anyio<5,>=3.5.0 in /usr/local/lib/python3.11/dist-packages (from openai<2.0.0,>=1.86.0->langchain-openai) (4.9.0)\n",
            "Requirement already satisfied: distro<2,>=1.7.0 in /usr/local/lib/python3.11/dist-packages (from openai<2.0.0,>=1.86.0->langchain-openai) (1.9.0)\n",
            "Requirement already satisfied: jiter<1,>=0.4.0 in /usr/local/lib/python3.11/dist-packages (from openai<2.0.0,>=1.86.0->langchain-openai) (0.10.0)\n",
            "Requirement already satisfied: sniffio in /usr/local/lib/python3.11/dist-packages (from openai<2.0.0,>=1.86.0->langchain-openai) (1.3.1)\n",
            "Requirement already satisfied: tqdm>4 in /usr/local/lib/python3.11/dist-packages (from openai<2.0.0,>=1.86.0->langchain-openai) (4.67.1)\n",
            "Requirement already satisfied: python-dotenv>=0.21.0 in /usr/local/lib/python3.11/dist-packages (from pydantic-settings<3.0.0,>=2.4.0->langchain_community) (1.1.1)\n",
            "Requirement already satisfied: typing-inspection>=0.4.0 in /usr/local/lib/python3.11/dist-packages (from pydantic-settings<3.0.0,>=2.4.0->langchain_community) (0.4.1)\n",
            "Requirement already satisfied: charset-normalizer<4,>=2 in /usr/local/lib/python3.11/dist-packages (from requests<3,>=2->langchain_community) (3.4.2)\n",
            "Requirement already satisfied: idna<4,>=2.5 in /usr/local/lib/python3.11/dist-packages (from requests<3,>=2->langchain_community) (3.10)\n",
            "Requirement already satisfied: urllib3<3,>=1.21.1 in /usr/local/lib/python3.11/dist-packages (from requests<3,>=2->langchain_community) (2.4.0)\n",
            "Requirement already satisfied: certifi>=2017.4.17 in /usr/local/lib/python3.11/dist-packages (from requests<3,>=2->langchain_community) (2025.6.15)\n",
            "Requirement already satisfied: greenlet>=1 in /usr/local/lib/python3.11/dist-packages (from SQLAlchemy<3,>=1.4->langchain_community) (3.2.3)\n",
            "Requirement already satisfied: regex>=2022.1.18 in /usr/local/lib/python3.11/dist-packages (from tiktoken<1,>=0.7->langchain-openai) (2024.11.6)\n",
            "Requirement already satisfied: httpcore==1.* in /usr/local/lib/python3.11/dist-packages (from httpx<1,>=0.23.0->langsmith>=0.1.125->langchain_community) (1.0.9)\n",
            "Requirement already satisfied: h11>=0.16 in /usr/local/lib/python3.11/dist-packages (from httpcore==1.*->httpx<1,>=0.23.0->langsmith>=0.1.125->langchain_community) (0.16.0)\n",
            "Requirement already satisfied: jsonpointer>=1.9 in /usr/local/lib/python3.11/dist-packages (from jsonpatch<2.0,>=1.33->langchain-core<1.0.0,>=0.3.66->langchain_community) (3.0.0)\n",
            "Requirement already satisfied: annotated-types>=0.6.0 in /usr/local/lib/python3.11/dist-packages (from pydantic<3.0.0,>=2.7.4->langchain<1.0.0,>=0.3.26->langchain_community) (0.7.0)\n",
            "Requirement already satisfied: pydantic-core==2.33.2 in /usr/local/lib/python3.11/dist-packages (from pydantic<3.0.0,>=2.7.4->langchain<1.0.0,>=0.3.26->langchain_community) (2.33.2)\n",
            "Requirement already satisfied: mypy-extensions>=0.3.0 in /usr/local/lib/python3.11/dist-packages (from typing-inspect<1,>=0.4.0->dataclasses-json<0.7,>=0.5.7->langchain_community) (1.1.0)\n",
            "Downloading langchain_openai-0.3.27-py3-none-any.whl (70 kB)\n",
            "\u001b[2K   \u001b[90m━━━━━━━━━━━━━━━━━━━━━━━━━━━━━━━━━━━━━━━━\u001b[0m \u001b[32m70.4/70.4 kB\u001b[0m \u001b[31m3.1 MB/s\u001b[0m eta \u001b[36m0:00:00\u001b[0m\n",
            "\u001b[?25hInstalling collected packages: langchain-openai\n",
            "Successfully installed langchain-openai-0.3.27\n"
          ]
        }
      ]
    },
    {
      "cell_type": "code",
      "execution_count": 11,
      "metadata": {
        "id": "6RrQgUwdzm8e"
      },
      "outputs": [],
      "source": [
        "import os, json\n",
        "from datetime import datetime\n",
        "from langchain_openai import OpenAI\n",
        "from langchain import LLMChain, PromptTemplate\n",
        "from langchain.agents import Tool, initialize_agent, AgentType\n",
        "from langchain.callbacks import get_openai_callback, StdOutCallbackHandler\n",
        "from langchain.memory import ConversationBufferMemory"
      ]
    },
    {
      "cell_type": "code",
      "source": [
        "from google.colab import userdata\n",
        "\n",
        "client = OpenAI(\n",
        "    base_url=userdata.get('baseurl'),\n",
        "    api_key=userdata.get('apikey'),\n",
        "    model='meta-llama/Llama-3.3-70B-Instruct'\n",
        ")"
      ],
      "metadata": {
        "id": "Gf0FLXhmzsaq"
      },
      "execution_count": 14,
      "outputs": []
    },
    {
      "cell_type": "code",
      "source": [],
      "metadata": {
        "id": "7hahyZPt5IWP"
      },
      "execution_count": null,
      "outputs": []
    },
    {
      "cell_type": "code",
      "source": [
        "def quiz_fn(topic: str) -> str:\n",
        "    tmpl = [\n",
        "        \"Ты эксперт в составлении квизов\"\n",
        "        \"Тема: {topic}\",\n",
        "        \"Составь вопрос квиза на заданную тему с 4 вариантами ответа.\"\n",
        "        \"Формат ответа: <q>str<\\q>\",\n",
        "        \"<ans1>str<\\ans1>\",\n",
        "        \"<ans2>str<\\ans2>\",\n",
        "        \"<ans3>str<\\ans3>\",\n",
        "        \"<ans4>str<\\ans4>\",\n",
        "        \"<right_ans>int<\\right_ans>\"\n",
        "    ]\n",
        "    tmpl = \"\\n\".join(tmpl)\n",
        "    prompt = PromptTemplate.from_template(tmpl)\n",
        "    # Use RunnableSequence instead of LLMChain and invoke instead of run\n",
        "    chain = prompt | client\n",
        "    return chain.invoke({\"topic\": topic})\n",
        "\n",
        "tools = [\n",
        "    Tool.from_function(quiz_fn, name=\"quiz\", description=\"Генерация вопроса квиза\"),\n",
        "]"
      ],
      "metadata": {
        "colab": {
          "base_uri": "https://localhost:8080/"
        },
        "id": "t_kEweXqzox5",
        "outputId": "3d2db7bc-c900-407b-d9f8-107675148e40"
      },
      "execution_count": 32,
      "outputs": [
        {
          "output_type": "stream",
          "name": "stderr",
          "text": [
            "WARNING:langchain.agents.agent:`agent_scratchpad` should be a variable in prompt.input_variables. Did not find it, so adding it at the end.\n"
          ]
        }
      ]
    },
    {
      "cell_type": "code",
      "source": [
        "memory = ConversationBufferMemory() # Память\n",
        "\n",
        "callbacks = [StdOutCallbackHandler()] # Callback-handlers: вывод в stdout + сбор метрик"
      ],
      "metadata": {
        "id": "zSSpvpzmJK6I"
      },
      "execution_count": null,
      "outputs": []
    },
    {
      "cell_type": "code",
      "source": [
        "agent = initialize_agent(\n",
        "    tools,\n",
        "    client,\n",
        "    agent=AgentType.ZERO_SHOT_REACT_DESCRIPTION,\n",
        "    memory=memory,\n",
        "    callbacks=callbacks,\n",
        "    verbose=True,\n",
        "    max_iterations=10,\n",
        "    early_stopping_method=\"force\",\n",
        "    return_intermediate_steps=True,\n",
        "    agent_kwargs={\n",
        "        \"prefix\": (\n",
        "            \"Ты — генератор квизов. Твоя единственная работа — сгенерировать 5 вопросов с помощью quiz() \"\n",
        "            \"Тема квиза — это {input}.\"\n",
        "        ),\n",
        "        \"suffix\": \"Выполни quiz() 5 раз. Собери все ответы quiz() в один python список без изменений\"\n",
        "    }\n",
        ")"
      ],
      "metadata": {
        "colab": {
          "base_uri": "https://localhost:8080/"
        },
        "id": "HHEcigt6JTgW",
        "outputId": "29c3ae6b-8db1-4fd1-d094-e6e327dacbad"
      },
      "execution_count": 36,
      "outputs": [
        {
          "output_type": "stream",
          "name": "stderr",
          "text": [
            "WARNING:langchain.agents.agent:`agent_scratchpad` should be a variable in prompt.input_variables. Did not find it, so adding it at the end.\n"
          ]
        }
      ]
    },
    {
      "cell_type": "code",
      "source": [
        "def main(topic_name):\n",
        "    # собираем метрики по токенам и стоимости\n",
        "    with get_openai_callback() as cb:\n",
        "        result = agent({\"input\": topic_name})\n",
        "    # сохраняем лог\n",
        "    log = {\n",
        "        \"timestamp\": datetime.utcnow().isoformat(),\n",
        "        \"input\": topic_name,\n",
        "        \"output\": result[\"output\"],\n",
        "        \"metrics\": {\n",
        "            \"total_tokens\": cb.total_tokens,\n",
        "            \"prompt_tokens\": cb.prompt_tokens,\n",
        "            \"completion_tokens\": cb.completion_tokens,\n",
        "            \"total_cost_usd\": cb.total_cost\n",
        "        }\n",
        "    }\n",
        "    with open(\"quiz_run_log.json\", \"a\", encoding=\"utf-8\") as f:\n",
        "        f.write(json.dumps(log, ensure_ascii=False) + \"\\n\")\n",
        "    return result"
      ],
      "metadata": {
        "id": "FDjwlN_VJWXe"
      },
      "execution_count": 37,
      "outputs": []
    },
    {
      "cell_type": "code",
      "source": [
        "res = main('архитектуры llm агентов')"
      ],
      "metadata": {
        "colab": {
          "base_uri": "https://localhost:8080/"
        },
        "id": "UUtnyuyZ8sGo",
        "outputId": "86dbbf78-abaa-463d-cdb4-cc5a3b1fb710"
      },
      "execution_count": 38,
      "outputs": [
        {
          "output_type": "stream",
          "name": "stdout",
          "text": [
            "\n",
            "\n",
            "\u001b[1m> Entering new AgentExecutor chain...\u001b[0m\n",
            "\u001b[32;1m\u001b[1;3mQuestion: Эта тема архитектуры llm агентов. Что нужно сделать?\n",
            "Thought: Нам нужно сгенерировать 5 вопросов с помощью функции quiz() на тему архитектуры llm агентов.\n",
            "Action: quiz\n",
            "Action Input: архитектуры llm агентов\u001b[0m\n",
            "Observation: \u001b[36;1m\u001b[1;3m \n",
            "Вопрос: Какова основная цель архитектуры LLM (Большая Языковая Модель) агентов?\n",
            "<ans1>Распознавание и синтез речи\n",
            "<ans2>Обработка и анализ естественного языка\n",
            "<ans3>Создание искусственного интеллекта для принятия решений\n",
            "<ans4>Робототехника и механика\n",
            "<right_ans>2<­ight_ans>\u001b[0m\n",
            "Thought:\u001b[32;1m\u001b[1;3m Получен первый вопрос, теперь нужно сгенерировать следующий вопрос.\n",
            "Action: quiz\n",
            "Action Input: архитектуры llm агентов\u001b[0m\n",
            "Observation: \u001b[36;1m\u001b[1;3m \n",
            "<q>В чем заключается основная цель архитектуры LLM агентов?</q>\n",
            "<ans1>Создание распределенных систем</ans1>\n",
            "<ans2>Реализация шифрования данных</ans2>\n",
            "<ans3>Повышение эффективности обработки языковых моделей</ans3>\n",
            "<ans4>Разработка алгоритмов компрессии</ans4>\n",
            "<right_ans>3</right_ans>\u001b[0m\n",
            "Thought:\u001b[32;1m\u001b[1;3m Получен второй вопрос, теперь нужно сгенерировать следующий вопрос.\n",
            "Action: quiz\n",
            "Action Input: архитектуры llm агентов\u001b[0m\n",
            "Observation: \u001b[36;1m\u001b[1;3m \n",
            "<q>Что означает аббревиатура LLM в контексте ИИ?</q>\n",
            "<ans1>Линейная логистическая модель</ans1>\n",
            "<ans2>Large Language Model</ans2>\n",
            "<ans3>Локальная логистическая модель</ans3>\n",
            "<ans4>Линейная логическая модель</ans4>\n",
            "<right_ans>2</right_ans>\u001b[0m\n",
            "Thought:\u001b[32;1m\u001b[1;3m Получен третий вопрос, теперь нужно сгенерировать следующий вопрос.\n",
            "Action: quiz\n",
            "Action Input: архитектуры llm агентов\u001b[0m\n",
            "Observation: \u001b[36;1m\u001b[1;3m \n",
            "Вопрос: В каком году была опубликована первая статья о архитектуре LLaMA, которая стала предшественником современных моделей LLM?\n",
            "<ans1>2020\n",
            "<ans2>2019\n",
            "<ans3>2018\n",
            "<ans4>2021\n",
            "<right_ans>2<­ight_ans>\u001b[0m\n",
            "Thought:\u001b[32;1m\u001b[1;3m Получен четвертый вопрос, теперь нужно сгенерировать следующий вопрос.\n",
            "Action: quiz\n",
            "Action Input: архитектуры llm агентов\u001b[0m\n",
            "Observation: \u001b[36;1m\u001b[1;3m \n",
            "\n",
            "<q>Какой архитектурный подход используется в большинстве современных моделей LLM-агентов?<\\q>\n",
            "<ans1>Объектно-ориентированный<\u0007ns1>\n",
            "<ans2>Функциональный<\u0007ns2>\n",
            "<ans3>Модульный<\u0007ns3>\n",
            "<ans4>Трансформерный<\u0007ns4>\n",
            "<right_ans>4<­ight_ans>\u001b[0m\n",
            "Thought:\u001b[32;1m\u001b[1;3m Получены все 5 вопросов, теперь нужно собрать их в один список.\n",
            "Final Answer: [\n",
            "\"Вопрос: Какова основная цель архитектуры LLM (Большая Языковая Модель) агентов?\\n<ans1>Распознавание и синтез речи\\n<ans2>Обработка и анализ естественного языка\\n<ans3>Создание искусственного интеллекта для принятия решений\\n<ans4>Робототехника и механика\\n<right_ans>2<­ight_ans>\", \n",
            "\"В чем заключается основная цель архитектуры LLM агентов?\\n<ans1>Создание распределенных систем\\n<ans2>Реализация шифрования данных\\n<ans3>Повышение эффективности обработки языковых моделей\\n<ans4>Разработка алгоритмов компрессии\\n<right_ans>3</right_ans>\", \n",
            "\"Что означает аббревиатура LLM в контексте ИИ?\\n<ans1>Линейная логистическая модель\\n<ans2>Large Language\u001b[0m\n",
            "\n",
            "\u001b[1m> Finished chain.\u001b[0m\n"
          ]
        },
        {
          "output_type": "stream",
          "name": "stderr",
          "text": [
            "/usr/local/lib/python3.11/dist-packages/langchain/memory/chat_memory.py:55: UserWarning: 'ConversationBufferMemory' got multiple output keys: dict_keys(['output', 'intermediate_steps']). The default 'output' key is being used. If this is not desired, please manually set 'output_key'.\n",
            "  warnings.warn(\n"
          ]
        }
      ]
    },
    {
      "cell_type": "code",
      "source": [
        "res['output']"
      ],
      "metadata": {
        "colab": {
          "base_uri": "https://localhost:8080/",
          "height": 107
        },
        "id": "QTl9rdBO5y0_",
        "outputId": "18b9cf30-ef62-4a38-cb82-557b9d3b1cc8"
      },
      "execution_count": 44,
      "outputs": [
        {
          "output_type": "execute_result",
          "data": {
            "text/plain": [
              "'[\\n\"Вопрос: Какова основная цель архитектуры LLM (Большая Языковая Модель) агентов?\\\\n<ans1>Распознавание и синтез речи\\\\n<ans2>Обработка и анализ естественного языка\\\\n<ans3>Создание искусственного интеллекта для принятия решений\\\\n<ans4>Робототехника и механика\\\\n<right_ans>2<\\xadight_ans>\", \\n\"В чем заключается основная цель архитектуры LLM агентов?\\\\n<ans1>Создание распределенных систем\\\\n<ans2>Реализация шифрования данных\\\\n<ans3>Повышение эффективности обработки языковых моделей\\\\n<ans4>Разработка алгоритмов компрессии\\\\n<right_ans>3</right_ans>\", \\n\"Что означает аббревиатура LLM в контексте ИИ?\\\\n<ans1>Линейная логистическая модель\\\\n<ans2>Large Language'"
            ],
            "application/vnd.google.colaboratory.intrinsic+json": {
              "type": "string"
            }
          },
          "metadata": {},
          "execution_count": 44
        }
      ]
    },
    {
      "cell_type": "code",
      "source": [],
      "metadata": {
        "id": "V-SJaPYBJ1CO"
      },
      "execution_count": null,
      "outputs": []
    }
  ]
}